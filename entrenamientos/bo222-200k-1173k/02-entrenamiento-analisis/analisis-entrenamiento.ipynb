{
 "cells": [
  {
   "cell_type": "markdown",
   "metadata": {},
   "source": [
    "# Analisis del entrenamiento"
   ]
  },
  {
   "cell_type": "markdown",
   "metadata": {},
   "source": [
    "## Módulos y rutas"
   ]
  },
  {
   "cell_type": "markdown",
   "metadata": {},
   "source": [
    "Rutas de los archivos"
   ]
  },
  {
   "cell_type": "code",
   "execution_count": 1,
   "metadata": {},
   "outputs": [],
   "source": [
    "#nombre del compuesto\n",
    "nombre_compuesto=\"bo222-200k-1173k\"\n",
    "\n",
    "# Ruta al archivo metrics \n",
    "path_metric_csv = \"../../segundo/output/metrics.csv\"\n",
    "#../../segundo/output/metrics.csv\n",
    "\n",
    "path_splits_npz= \"../../segundo/output/splits.npz\"\n",
    "\n",
    "# Ruta al modelo entrenado\n",
    "path_trained_model=\"../../segundo/output/epoch=1239-val_loss=0.0001-test_loss=0.0689.ckpt\"\n",
    "\n",
    "# Ruta al dataset que uso torchmd-net\n",
    "path_torchmdnet_dataset_h5 = \"../../segundo/02-entrenamientos/input/bo222-200k-1173k.h5\""
   ]
  },
  {
   "cell_type": "markdown",
   "metadata": {},
   "source": [
    "Importar módulos"
   ]
  },
  {
   "cell_type": "code",
   "execution_count": 2,
   "metadata": {},
   "outputs": [
    {
     "name": "stderr",
     "output_type": "stream",
     "text": [
      "/root/mambaforge/envs/torchmd-net/lib/python3.9/site-packages/tqdm/auto.py:22: TqdmWarning: IProgress not found. Please update jupyter and ipywidgets. See https://ipywidgets.readthedocs.io/en/stable/user_install.html\n",
      "  from .autonotebook import tqdm as notebook_tqdm\n"
     ]
    }
   ],
   "source": [
    "import torch\n",
    "import numpy as np\n",
    "import pandas as pd\n",
    "import matplotlib.pyplot as plt\n",
    "import h5py"
   ]
  },
  {
   "cell_type": "markdown",
   "metadata": {},
   "source": [
    "## Procesamiento del Dataframe"
   ]
  },
  {
   "cell_type": "markdown",
   "metadata": {},
   "source": [
    "Cargar datos"
   ]
  },
  {
   "cell_type": "code",
   "execution_count": 3,
   "metadata": {},
   "outputs": [],
   "source": [
    "# Lee el archivo CSV en un DataFrame de pandas\n",
    "metrics = pd.read_csv(path_metric_csv)\n",
    "#metrics['epoch'] = metrics['epoch'].astype(int)"
   ]
  },
  {
   "cell_type": "markdown",
   "metadata": {},
   "source": [
    "Mostrar primeras filas del DataFrame"
   ]
  },
  {
   "cell_type": "code",
   "execution_count": 4,
   "metadata": {},
   "outputs": [
    {
     "name": "stdout",
     "output_type": "stream",
     "text": [
      "Primeros datos\n",
      "   epoch            lr  train_loss    val_loss  std_train   mse_train  \\\n",
      "0    0.0  5.600000e-07  138.966339  134.566620   0.076093  138.966339   \n",
      "1    1.0  1.120000e-06  127.798103  117.145424   0.226886  127.798103   \n",
      "2    2.0  1.680000e-06  106.492386   91.991074   0.370713  106.492386   \n",
      "3    3.0  2.240000e-06   79.634064   63.712772   0.480088   79.634064   \n",
      "4    4.0  2.800000e-06   51.640991   37.077633   0.578341   51.640991   \n",
      "\n",
      "   rmse_train  mae_train  std_val     mse_val   rmse_val    mae_val  step  \\\n",
      "0   11.788399  11.787872      NaN  134.566620  11.600285  11.599960     7   \n",
      "1   11.304781  11.302468      NaN  117.145424  10.823373  10.823031    15   \n",
      "2   10.319515  10.313342      NaN   91.991074   9.591196   9.590818    23   \n",
      "3    8.923792   8.912095      NaN   63.712772   7.982027   7.981582    31   \n",
      "4    7.186166   7.165303      NaN   37.077633   6.089139   6.088567    39   \n",
      "\n",
      "   test_loss  std_test  mse_test  rmse_test  mae_test  \n",
      "0        NaN       NaN       NaN        NaN       NaN  \n",
      "1        NaN       NaN       NaN        NaN       NaN  \n",
      "2        NaN       NaN       NaN        NaN       NaN  \n",
      "3        NaN       NaN       NaN        NaN       NaN  \n",
      "4        NaN       NaN       NaN        NaN       NaN  \n"
     ]
    }
   ],
   "source": [
    "# Muestra las primeras filas del DataFrame para verificar la importación\n",
    "print(\"Primeros datos\")\n",
    "print(metrics.head())"
   ]
  },
  {
   "cell_type": "markdown",
   "metadata": {},
   "source": [
    "Mostrar últimas filas del dataframe"
   ]
  },
  {
   "cell_type": "code",
   "execution_count": 6,
   "metadata": {},
   "outputs": [
    {
     "name": "stdout",
     "output_type": "stream",
     "text": [
      "Últimos datos\n",
      "       epoch            lr  train_loss  val_loss  std_train  mse_train  \\\n",
      "1708  1708.0  1.000000e-07    0.003246  0.003368   0.001176   0.003246   \n",
      "1709  1709.0  1.000000e-07    0.003245  0.003367   0.001306   0.003245   \n",
      "1710  1710.0  1.000000e-07    0.003244  0.003367   0.001327   0.003244   \n",
      "1711  1711.0  1.000000e-07    0.003248  0.003367   0.001437   0.003248   \n",
      "1712  1712.0  1.000000e-07    0.003245  0.003368   0.001529   0.003245   \n",
      "\n",
      "      rmse_train  mae_train  std_val   mse_val  rmse_val   mae_val   step  \\\n",
      "1708    0.056972   0.048432      NaN  0.003368  0.058019  0.049182  13671   \n",
      "1709    0.056961   0.048433      NaN  0.003367  0.058018  0.049182  13679   \n",
      "1710    0.056958   0.048424      NaN  0.003367  0.058018  0.049181  13687   \n",
      "1711    0.056987   0.048452      NaN  0.003367  0.058018  0.049181  13695   \n",
      "1712    0.056964   0.048431      NaN  0.003368  0.058020  0.049184  13703   \n",
      "\n",
      "      test_loss  std_test  mse_test  rmse_test  mae_test  \n",
      "1708        NaN       NaN       NaN        NaN       NaN  \n",
      "1709        NaN       NaN       NaN        NaN       NaN  \n",
      "1710     0.0486  0.001045  0.003227   0.056805    0.0486  \n",
      "1711        NaN       NaN       NaN        NaN       NaN  \n",
      "1712        NaN       NaN       NaN        NaN       NaN  \n"
     ]
    }
   ],
   "source": [
    "# Muestra las primeras filas del DataFrame para verificar la importación\n",
    "print(\"Últimos datos\")\n",
    "print(metrics.tail())"
   ]
  },
  {
   "cell_type": "markdown",
   "metadata": {},
   "source": [
    "### Learning rate contra epoch"
   ]
  },
  {
   "cell_type": "markdown",
   "metadata": {},
   "source": [
    "Procesamiento de los datos para ser graficados"
   ]
  },
  {
   "cell_type": "code",
   "execution_count": null,
   "metadata": {},
   "outputs": [],
   "source": [
    "\"graficas/input/graph_lr_vs_epoch/graph_lr_vs_epoch.dat\""
   ]
  },
  {
   "cell_type": "code",
   "execution_count": null,
   "metadata": {},
   "outputs": [],
   "source": [
    "# Importar script\n",
    "import graficas.scripts.graph_lr_vs_epoch\n",
    "#importar configuracion\n",
    "config=scripts.graph_lr_vs_epoch.default_config()\n",
    "config[\"data_path\"]=\"graficas/input/graph_lr_vs_epoch/graph_lr_vs_epoch.dat\"\n",
    "config[\"leyend_title\"]=\"Learning rate\"\n",
    "config[\"x_label\"]=\"Epoch\"\n",
    "config[\"y_label\"]=\" \"  \n",
    "config[\"y1_label\"]=\"Train\""
   ]
  },
  {
   "cell_type": "code",
   "execution_count": null,
   "metadata": {},
   "outputs": [],
   "source": [
    "personalizacion=False\n",
    "if graph_lr_vs_epoch and personalizacion:\n",
    "    config[\"x_limit\"]=(0,690)\n",
    "    config[\"y_limit\"]=(0,0.0005)\n",
    "    pass\n",
    "\n",
    "scripts.graph_lr_vs_epoch.generate_graph(config)"
   ]
  },
  {
   "cell_type": "code",
   "execution_count": null,
   "metadata": {},
   "outputs": [],
   "source": [
    "personalizacion=False\n",
    "if graph_lr_vs_epoch and personalizacion:\n",
    "    config[\"x_limit\"]=(0,690)\n",
    "    config[\"y_limit\"]=(0,0.0005)\n",
    "    pass\n",
    "\n",
    "scripts.graph_lr_vs_epoch.generate_graph(config)"
   ]
  },
  {
   "cell_type": "code",
   "execution_count": null,
   "metadata": {},
   "outputs": [],
   "source": [
    "personalizacion=False\n",
    "if graph_lr_vs_epoch and personalizacion:\n",
    "    config[\"x_limit\"]=(0,690)\n",
    "    config[\"y_limit\"]=(0,0.0005)\n",
    "    pass\n",
    "\n",
    "scripts.graph_lr_vs_epoch.generate_graph(config)"
   ]
  },
  {
   "cell_type": "markdown",
   "metadata": {},
   "source": [
    "# Analisis de modelo entrenado"
   ]
  },
  {
   "cell_type": "markdown",
   "metadata": {},
   "source": [
    "## Analisis de la energía"
   ]
  },
  {
   "cell_type": "markdown",
   "metadata": {},
   "source": [
    "## Analisis de las fuerzas"
   ]
  },
  {
   "cell_type": "code",
   "execution_count": null,
   "metadata": {},
   "outputs": [],
   "source": []
  }
 ],
 "metadata": {
  "kernelspec": {
   "display_name": "torchmd-net",
   "language": "python",
   "name": "torchmd-net"
  }
 },
 "nbformat": 4,
 "nbformat_minor": 2
}

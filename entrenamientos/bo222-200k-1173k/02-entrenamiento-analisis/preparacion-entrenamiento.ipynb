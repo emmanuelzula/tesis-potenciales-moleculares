{
 "cells": [
  {
   "cell_type": "markdown",
   "metadata": {},
   "source": [
    "# Preparación del entrenamiento"
   ]
  },
  {
   "cell_type": "markdown",
   "metadata": {},
   "source": [
    "## Preparación de carpetas"
   ]
  },
  {
   "cell_type": "markdown",
   "metadata": {},
   "source": [
    "### Creación de las carpetas\n"
   ]
  },
  {
   "cell_type": "code",
   "execution_count": 1,
   "metadata": {},
   "outputs": [
    {
     "name": "stdout",
     "output_type": "stream",
     "text": [
      "Carpetas creadas:\n",
      "/workspace/tesis-potenciales-moleculares/entrenamientos/bo222-200k-1173k/02-entrenamientos/input\n",
      "/workspace/tesis-potenciales-moleculares/entrenamientos/bo222-200k-1173k/02-entrenamientos/output\n"
     ]
    }
   ],
   "source": [
    "import os\n",
    "\n",
    "# Especifica el directorio actual\n",
    "directorio_actual = os.getcwd()\n",
    "\n",
    "# Nombres de las carpetas que quieres crear\n",
    "nombres_carpetas = ['input', 'output']\n",
    "\n",
    "# Ruta completa de las carpetas\n",
    "rutas_carpetas = [os.path.join(directorio_actual, carpeta) for carpeta in nombres_carpetas]\n",
    "\n",
    "# Crear las carpetas\n",
    "for carpeta in rutas_carpetas:\n",
    "    os.makedirs(carpeta, exist_ok=True)\n",
    "\n",
    "print(\"Carpetas creadas:\")\n",
    "for carpeta in rutas_carpetas:\n",
    "    print(carpeta)"
   ]
  },
  {
   "cell_type": "markdown",
   "metadata": {},
   "source": [
    "### Copiar el dataset ya procesado a la carpeta input"
   ]
  },
  {
   "cell_type": "code",
   "execution_count": 2,
   "metadata": {},
   "outputs": [
    {
     "name": "stdout",
     "output_type": "stream",
     "text": [
      "El archivo se ha copiado correctamente a /workspace/tesis-potenciales-moleculares/entrenamientos/bo222-200k-1173k/02-entrenamientos/../02-entrenamientos/input/bo222-200k-1173k.h5\n"
     ]
    }
   ],
   "source": [
    "import shutil\n",
    "import os\n",
    "\n",
    "# Directorio actual del cuaderno Jupyter\n",
    "directorio_actual = os.getcwd()\n",
    "\n",
    "# Rutas de origen y destino (relativas al directorio actual)\n",
    "ruta_origen_relativa = \"../01-procesamiento-datos/datos-procesados/bo222-200k-1173k.h5\"\n",
    "ruta_destino_relativa = \"../02-entrenamientos/input\"\n",
    "\n",
    "# Rutas completas de origen y destino\n",
    "ruta_origen = os.path.join(directorio_actual, ruta_origen_relativa)\n",
    "ruta_destino = os.path.join(directorio_actual, ruta_destino_relativa)\n",
    "\n",
    "# Copiar el archivo\n",
    "shutil.copy(ruta_origen, ruta_destino)\n",
    "\n",
    "# Verificar que el archivo se ha copiado correctamente\n",
    "archivo_copiado = os.path.join(ruta_destino, os.path.basename(ruta_origen))\n",
    "\n",
    "if os.path.exists(archivo_copiado):\n",
    "    print(f\"El archivo se ha copiado correctamente a {archivo_copiado}\")\n",
    "else:\n",
    "    print(\"Hubo un problema al copiar el archivo.\")\n"
   ]
  },
  {
   "cell_type": "markdown",
   "metadata": {},
   "source": [
    "## Definición de hiper-parametros"
   ]
  },
  {
   "cell_type": "code",
   "execution_count": 3,
   "metadata": {},
   "outputs": [
    {
     "name": "stdout",
     "output_type": "stream",
     "text": [
      "El archivo YAML se ha guardado correctamente en: input/bo222-200k-1173k.yaml\n"
     ]
    }
   ],
   "source": [
    "configuracion = \"\"\"activation: silu\n",
    "aggr: add\n",
    "atom_filter: -1\n",
    "attn_activation: silu\n",
    "batch_size: 64\n",
    "coord_files: null\n",
    "cutoff_lower: 0.0\n",
    "cutoff_upper: 5.0\n",
    "dataset: HDF5\n",
    "dataset_arg: null\n",
    "dataset_root: input/bo222-200k-1173k.h5\n",
    "derivative: false\n",
    "distance_influence: both\n",
    "early_stopping_patience: 500\n",
    "ema_alpha_neg_dy: 1.0\n",
    "ema_alpha_y: 1.0\n",
    "embed_files: null\n",
    "embedding_dimension: 128\n",
    "energy_files: null\n",
    "y_weight: 1.0\n",
    "force_files: null\n",
    "neg_dy_weight: 1.0\n",
    "inference_batch_size: 256\n",
    "load_model: null\n",
    "log_dir: logs/\n",
    "lr: 0.0007\n",
    "lr_factor: 0.5\n",
    "lr_min: 1.0e-07\n",
    "lr_patience: 5\n",
    "lr_warmup_steps: 10000\n",
    "max_num_neighbors: 32\n",
    "max_z: 100\n",
    "model: equivariant-transformer\n",
    "neighbor_embedding: true\n",
    "ngpus: -1\n",
    "num_epochs: 6000\n",
    "num_heads: 8\n",
    "num_layers: 6\n",
    "num_nodes: 1\n",
    "num_rbf: 32\n",
    "num_workers: 6\n",
    "output_model: Scalar\n",
    "precision: 32\n",
    "rbf_type: expnorm\n",
    "redirect: false\n",
    "reduce_op: add\n",
    "save_interval: 10\n",
    "splits: null\n",
    "standardize: false\n",
    "test_interval: 10\n",
    "test_size: null\n",
    "train_size: 0.8\n",
    "trainable_rbf: false\n",
    "val_size: 0.05\n",
    "weight_decay: 0.0\n",
    "\n",
    "\"\"\"\n",
    "\n",
    "# Ruta del archivo YAML de salida\n",
    "ruta_salida = \"input/bo222-200k-1173k.yaml\"\n",
    "\n",
    "# Guardar el texto como archivo YAML sin módulos adicionales\n",
    "with open(ruta_salida, 'w') as archivo:\n",
    "    archivo.write(configuracion)\n",
    "\n",
    "print(f\"El archivo YAML se ha guardado correctamente en: {ruta_salida}\")\n"
   ]
  },
  {
   "cell_type": "markdown",
   "metadata": {},
   "source": [
    "## Creación del script"
   ]
  },
  {
   "cell_type": "code",
   "execution_count": 4,
   "metadata": {},
   "outputs": [
    {
     "name": "stdout",
     "output_type": "stream",
     "text": [
      "El script se ha guardado correctamente en: iniciar-entrenamiento.sh\n"
     ]
    }
   ],
   "source": [
    "# comando_principal CUDA_VISIBLE_DEVICES=-1 torchmd-train --conf input/bo222-200k-1173k.yaml --log-dir output/\n",
    "\n",
    "texto_script=\"\"\"#!/bin/bash\n",
    "\n",
    "# Archivo para guardar la información\n",
    "output_file=\"informacion_entrenamiento.txt\"\n",
    "\n",
    "# Guardar el comando de ejecución y la hora de inicio\n",
    "echo \"Comando de ejecución: CUDA_VISIBLE_DEVICES=0,1,2,3 torchmd-train --conf input/bo222-200k-1173k.yaml --log-dir output/\" > \"$output_file\"\n",
    "start_time=$(date +\"%Y-%m-%d %H:%M:%S\")\n",
    "echo \"Inicio del entrenamiento: $start_time\" >> \"$output_file\"\n",
    "\n",
    "# Ejecutar el comando de entrenamiento\n",
    "CUDA_VISIBLE_DEVICES=0,1,2,3 torchmd-train --conf input/bo222-200k-1173k.yaml --log-dir output/\n",
    "\n",
    "# Guardar la hora de finalización\n",
    "end_time=$(date +\"%Y-%m-%d %H:%M:%S\")\n",
    "echo \"Fin del entrenamiento: $end_time\" >> \"$output_file\"\n",
    "\n",
    "# Calcular la duración del entrenamiento\n",
    "start_seconds=$(date -d \"$start_time\" +%s)\n",
    "end_seconds=$(date -d \"$end_time\" +%s)\n",
    "duration_seconds=$((end_seconds - start_seconds))\n",
    "\n",
    "# Guardar la duración en el archivo\n",
    "echo \"Duración del entrenamiento: $((duration_seconds / 60)) minutos y $((duration_seconds % 60)) segundos\" >> \"$output_file\"\n",
    "\n",
    "echo \"Información del entrenamiento guardada en $output_file\"\n",
    "\"\"\"\n",
    "\n",
    "# Ruta del script de salida\n",
    "ruta_salida = \"iniciar-entrenamiento.sh\"\n",
    "\n",
    "# Guardar el texto como archivo YAML sin módulos adicionales\n",
    "with open(ruta_salida, 'w') as archivo:\n",
    "    archivo.write(texto_script)\n",
    "\n",
    "print(f\"El script se ha guardado correctamente en: {ruta_salida}\")"
   ]
  },
  {
   "cell_type": "markdown",
   "metadata": {},
   "source": [
    "### Recuerda dar permiso de ejecución al script con el comando en terminal\n",
    "\n",
    "```bash\n",
    "chmod +x iniciar-entrenamiento.sh\n",
    "```"
   ]
  },
  {
   "cell_type": "markdown",
   "metadata": {},
   "source": [
    "## Ejecución con nohup"
   ]
  },
  {
   "cell_type": "markdown",
   "metadata": {},
   "source": [
    "Para que el script se siga ejecutando independientemente del estado de la terminal donde se inicio se ejecuta el siguiente comando\n",
    "\n",
    "```bash\n",
    "nohup ./iniciar-entrenamiento.sh > salida.log 2>&1 &\n",
    "```"
   ]
  }
 ],
 "metadata": {
  "kernelspec": {
   "display_name": "torchmd-net",
   "language": "python",
   "name": "torchmd-net"
  },
  "language_info": {
   "codemirror_mode": {
    "name": "ipython",
    "version": 3
   },
   "file_extension": ".py",
   "mimetype": "text/x-python",
   "name": "python",
   "nbconvert_exporter": "python",
   "pygments_lexer": "ipython3",
   "version": "3.9.15"
  }
 },
 "nbformat": 4,
 "nbformat_minor": 2
}

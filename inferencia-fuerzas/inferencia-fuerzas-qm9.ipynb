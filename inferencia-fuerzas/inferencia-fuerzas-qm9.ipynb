{
 "cells": [
  {
   "cell_type": "markdown",
   "metadata": {},
   "source": [
    "# Inferencia de las fuerzas moleculares de los elementos del dataset QM9"
   ]
  },
  {
   "cell_type": "markdown",
   "metadata": {},
   "source": [
    "## Importación de módulos"
   ]
  },
  {
   "cell_type": "code",
   "execution_count": null,
   "metadata": {},
   "outputs": [],
   "source": [
    "import torch\n",
    "import numpy as np\n",
    "import pandas as pd\n",
    "import os\n",
    "from scripts.qm9 import QM9"
   ]
  },
  {
   "cell_type": "markdown",
   "metadata": {},
   "source": [
    "## Definición de directorios"
   ]
  },
  {
   "cell_type": "code",
   "execution_count": null,
   "metadata": {},
   "outputs": [],
   "source": [
    "path_splits_npy = \"/workspace/clase_torchmd-net/implementacion/output/splits.npz\"\n",
    "\n",
    "# Ruta al dataset que uso torchmd-net\n",
    "path_torchmdnet_dataset = \"/workspace/clase_torchmd-net/data/dataset_qm9.pt\"\n",
    "\n",
    "# Ruta al modelo entrenado\n",
    "path_trained_model=\"/workspace/clase_torchmd-net/implementacion/output/epoch=669-val_loss=0.0003-test_loss=0.0064.ckpt\""
   ]
  },
  {
   "cell_type": "code",
   "execution_count": null,
   "metadata": {},
   "outputs": [],
   "source": [
    "# Cargar archivo del dataset que utiliza torchmd-net\n",
    "torchmdnet_dataset = torch.load(path_torchmdnet_dataset)\n",
    "\n",
    "# Cargar archivo splits\n",
    "splits_data = np.load(path_splits_npy)"
   ]
  },
  {
   "cell_type": "code",
   "execution_count": null,
   "metadata": {},
   "outputs": [],
   "source": [
    "# Acceder a la matriz específica dentro del archivo npz\n",
    "splits = splits_data['idx_test'] \n",
    "\n",
    "# Indexar el dataset con los índices de splits\n",
    "dataset_torchmdnet_test = torchmdnet_dataset[splits]"
   ]
  },
  {
   "cell_type": "code",
   "execution_count": null,
   "metadata": {},
   "outputs": [],
   "source": [
    "from torchmdnet.models.model import load_model\n",
    "model= load_model(path_trained_model, derivative=True)"
   ]
  },
  {
   "cell_type": "code",
   "execution_count": null,
   "metadata": {},
   "outputs": [],
   "source": [
    "if not os.path.exists('data/inferencias_test.dat'):\n",
    "    with open('data/inferencias_test.dat', 'w') as file:\n",
    "        for molecula in dataset_torchmdnet_test:\n",
    "            z_sample = molecula.z\n",
    "            pos_sample = molecula.pos\n",
    "            n_energy_sample = molecula.y\n",
    "            # Hacer la inferencia\n",
    "            n_energy_inferred, n_forces_inferred = model(z_sample, pos_sample)\n",
    "            # Transformar la inferencia\n",
    "            n_energy_inferred = float(n_energy_inferred)\n",
    "            n_energy_sample = float(n_energy_sample)        \n",
    "            # Guardar los datos en el archivo\n",
    "            file.write(f\"{n_energy_sample} {n_energy_inferred}\\n\")\n",
    "else:\n",
    "    print(\"El archivo 'inferencias_test.dat' ya existe. No se ha realizado ninguna acción.\")"
   ]
  }
 ],
 "metadata": {
  "language_info": {
   "name": "python"
  }
 },
 "nbformat": 4,
 "nbformat_minor": 2
}

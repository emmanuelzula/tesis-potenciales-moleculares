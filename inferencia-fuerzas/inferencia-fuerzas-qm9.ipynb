{
 "cells": [
  {
   "cell_type": "markdown",
   "metadata": {},
   "source": [
    "# Inferencia de las fuerzas moleculares de los elementos del dataset QM9"
   ]
  },
  {
   "cell_type": "markdown",
   "metadata": {},
   "source": [
    "## Importación de módulos"
   ]
  },
  {
   "cell_type": "code",
   "execution_count": 1,
   "metadata": {},
   "outputs": [
    {
     "name": "stderr",
     "output_type": "stream",
     "text": [
      "/root/mambaforge/envs/torchmd-net/lib/python3.9/site-packages/tqdm/auto.py:22: TqdmWarning: IProgress not found. Please update jupyter and ipywidgets. See https://ipywidgets.readthedocs.io/en/stable/user_install.html\n",
      "  from .autonotebook import tqdm as notebook_tqdm\n"
     ]
    }
   ],
   "source": [
    "import torch\n",
    "import numpy as np\n",
    "import pandas as pd\n",
    "import os\n",
    "from scripts.qm9 import QM9"
   ]
  },
  {
   "cell_type": "markdown",
   "metadata": {},
   "source": [
    "## Definición de directorios"
   ]
  },
  {
   "cell_type": "code",
   "execution_count": 2,
   "metadata": {},
   "outputs": [],
   "source": [
    "path_splits_npy = \"/workspace/tesis-potenciales-moleculares/inferencia-fuerzas/splits.npz\"\n",
    "\n",
    "# Ruta al dataset que uso torchmd-net\n",
    "path_torchmdnet_dataset = \"/workspace/tesis-potenciales-moleculares/inferencia-fuerzas/dataset_qm9.pt\"\n",
    "\n",
    "# Ruta al modelo entrenado\n",
    "path_trained_model=\"/workspace/tesis-potenciales-moleculares/inferencia-fuerzas/epoch=669-val_loss=0.0003-test_loss=0.0064.ckpt\""
   ]
  },
  {
   "cell_type": "markdown",
   "metadata": {},
   "source": [
    "## Cargar modelo"
   ]
  },
  {
   "cell_type": "code",
   "execution_count": 3,
   "metadata": {},
   "outputs": [],
   "source": [
    "from torchmdnet.models.model import load_model\n",
    "model= load_model(path_trained_model, derivative=True)"
   ]
  },
  {
   "cell_type": "markdown",
   "metadata": {},
   "source": [
    "## Cargar database"
   ]
  },
  {
   "cell_type": "code",
   "execution_count": 31,
   "metadata": {},
   "outputs": [],
   "source": [
    "# Cargar archivo del dataset que utiliza torchmd-net\n",
    "torchmdnet_dataset = torch.load(path_torchmdnet_dataset)"
   ]
  },
  {
   "cell_type": "markdown",
   "metadata": {},
   "source": [
    "## Inferencias individuales"
   ]
  },
  {
   "cell_type": "code",
   "execution_count": 32,
   "metadata": {},
   "outputs": [],
   "source": [
    "#número de indice de molecula\n",
    "num_mol=10"
   ]
  },
  {
   "cell_type": "code",
   "execution_count": 42,
   "metadata": {},
   "outputs": [],
   "source": [
    "molecula=torchmdnet_dataset[num_mol]\n",
    "\n",
    "z_sample = molecula.z\n",
    "pos_sample = molecula.pos\n",
    "n_energy_sample = molecula.y\n",
    "# Hacer la inferencia\n",
    "n_energy_inferred, n_forces_inferred = model(z_sample, pos_sample)\n",
    "# Transformar la inferencia\n",
    "#n_energy_inferred = float(n_energy_inferred)\n",
    "#n_energy_sample = float(n_energy_sample)       "
   ]
  },
  {
   "cell_type": "code",
   "execution_count": 43,
   "metadata": {},
   "outputs": [
    {
     "name": "stdout",
     "output_type": "stream",
     "text": [
      "7\n",
      "6 6 8 1 1 1 1\n"
     ]
    }
   ],
   "source": [
    "print(len(z_sample))\n",
    "z_sample=z_sample.tolist()\n",
    "z_sample=\" \".join(map(str, z_sample))\n",
    "print(z_sample)"
   ]
  },
  {
   "cell_type": "code",
   "execution_count": 38,
   "metadata": {},
   "outputs": [
    {
     "name": "stdout",
     "output_type": "stream",
     "text": [
      "-0.002899999963119626 1.5098999738693237 0.008700000122189522 0.026100000366568565 0.0032999999821186066 -0.03750000149011612 0.942300021648407 -0.6550999879837036 -0.45680001378059387 0.9228000044822693 1.926300048828125 -0.39149999618530273 -0.8619999885559082 1.878499984741211 -0.5648000240325928 -0.15049999952316284 1.8438999652862549 1.0428999662399292 -0.8944000005722046 -0.4864000082015991 0.357699990272522\n"
     ]
    }
   ],
   "source": [
    "pos_sample=pos_sample.flatten().tolist()\n",
    "pos_sample=\" \".join(map(str, pos_sample))\n",
    "print(pos_sample)"
   ]
  },
  {
   "cell_type": "code",
   "execution_count": 39,
   "metadata": {},
   "outputs": [
    {
     "name": "stdout",
     "output_type": "stream",
     "text": [
      "-4184.77392578125\n"
     ]
    }
   ],
   "source": [
    "n_energy_sample=float(n_energy_sample)\n",
    "print(n_energy_sample)"
   ]
  },
  {
   "cell_type": "code",
   "execution_count": 40,
   "metadata": {},
   "outputs": [
    {
     "name": "stdout",
     "output_type": "stream",
     "text": [
      "-4184.77587890625\n"
     ]
    }
   ],
   "source": [
    "n_energy_inferred=float(n_energy_inferred)\n",
    "print(n_energy_inferred) "
   ]
  },
  {
   "cell_type": "code",
   "execution_count": 41,
   "metadata": {},
   "outputs": [
    {
     "name": "stdout",
     "output_type": "stream",
     "text": [
      "-0.20835821330547333 -0.7185043096542358 0.0755651667714119 0.09281303733587265 1.2005563974380493 -0.013574501499533653 0.34101352095603943 -0.08474434167146683 -0.15249693393707275 -0.06059858947992325 -0.1645474135875702 0.023261964321136475 0.1451825350522995 -0.23716601729393005 0.09191802144050598 0.025890318676829338 -0.2322511225938797 -0.17816679179668427 -0.3359425961971283 0.23665688931941986 0.15349306166172028\n"
     ]
    }
   ],
   "source": [
    "n_forces_inferred=n_forces_inferred.flatten().tolist()\n",
    "n_forces_inferred=\" \".join(map(str, n_forces_inferred))\n",
    "print(n_forces_inferred)"
   ]
  },
  {
   "cell_type": "markdown",
   "metadata": {},
   "source": [
    "## Creación de un nuevo database con fuerzas inferidas"
   ]
  },
  {
   "cell_type": "markdown",
   "metadata": {},
   "source": [
    "## Importación de módulos"
   ]
  },
  {
   "cell_type": "code",
   "execution_count": null,
   "metadata": {},
   "outputs": [],
   "source": [
    "import numpy as np\n",
    "import h5py\n",
    "import random\n",
    "import os\n",
    "import shutil"
   ]
  },
  {
   "cell_type": "markdown",
   "metadata": {},
   "source": [
    "## Creación de archivos temporales"
   ]
  },
  {
   "cell_type": "code",
   "execution_count": null,
   "metadata": {},
   "outputs": [],
   "source": [
    "nombre_carpeta = \"temp\"\n",
    "\n",
    "if os.path.exists(nombre_carpeta) and os.path.isdir(nombre_carpeta):\n",
    "    shutil.rmtree(nombre_carpeta)\n",
    "    os.mkdir(nombre_carpeta)\n",
    "else:\n",
    "    os.mkdir(nombre_carpeta)\n",
    "\n",
    "\n",
    "os.mkdir(\"datos-procesados\")"
   ]
  },
  {
   "cell_type": "markdown",
   "metadata": {},
   "source": [
    "molecula=torchmdnet_dataset[num_mol]\n",
    "\n",
    "z_sample = molecula.z\n",
    "pos_sample = molecula.pos\n",
    "n_energy_sample = molecula.y\n",
    "# Hacer la inferencia\n",
    "n_energy_inferred, n_forces_inferred = model(z_sample, pos_sample)\n",
    "# Transformar la inferencia\n",
    "#n_energy_inferred = float(n_energy_inferred)\n",
    "#n_energy_sample = float(n_energy_sample)"
   ]
  },
  {
   "cell_type": "code",
   "execution_count": null,
   "metadata": {},
   "outputs": [],
   "source": [
    "\n",
    "\n",
    "# Cargar archivo splits\n",
    "splits_data = np.load(path_splits_npy)"
   ]
  },
  {
   "cell_type": "code",
   "execution_count": null,
   "metadata": {},
   "outputs": [],
   "source": [
    "# Acceder a la matriz específica dentro del archivo npz\n",
    "splits = splits_data['idx_test'] \n",
    "\n",
    "# Indexar el dataset con los índices de splits\n",
    "dataset_torchmdnet_test = torchmdnet_dataset[splits]"
   ]
  },
  {
   "cell_type": "code",
   "execution_count": null,
   "metadata": {},
   "outputs": [],
   "source": [
    "if not os.path.exists('data/inferencias_test.dat'):\n",
    "    with open('data/inferencias_test.dat', 'w') as file:\n",
    "        for molecula in dataset_torchmdnet_test:\n",
    "            z_sample = molecula.z\n",
    "            pos_sample = molecula.pos\n",
    "            n_energy_sample = molecula.y\n",
    "            # Hacer la inferencia\n",
    "            n_energy_inferred, n_forces_inferred = model(z_sample, pos_sample)\n",
    "            # Transformar la inferencia\n",
    "            n_energy_inferred = float(n_energy_inferred)\n",
    "            n_energy_sample = float(n_energy_sample)        \n",
    "            # Guardar los datos en el archivo\n",
    "            file.write(f\"{n_energy_sample} {n_energy_inferred}\\n\")\n",
    "else:\n",
    "    print(\"El archivo 'inferencias_test.dat' ya existe. No se ha realizado ninguna acción.\")"
   ]
  }
 ],
 "metadata": {
  "kernelspec": {
   "display_name": "torchmd-net",
   "language": "python",
   "name": "python3"
  },
  "language_info": {
   "codemirror_mode": {
    "name": "ipython",
    "version": 3
   },
   "file_extension": ".py",
   "mimetype": "text/x-python",
   "name": "python",
   "nbconvert_exporter": "python",
   "pygments_lexer": "ipython3",
   "version": "3.9.15"
  }
 },
 "nbformat": 4,
 "nbformat_minor": 2
}

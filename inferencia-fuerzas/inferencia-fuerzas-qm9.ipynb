{
 "cells": [
  {
   "cell_type": "markdown",
   "metadata": {},
   "source": [
    "# Inferencia de las fuerzas moleculares de los elementos del dataset QM9"
   ]
  },
  {
   "cell_type": "markdown",
   "metadata": {},
   "source": [
    "## Importación de módulos"
   ]
  },
  {
   "cell_type": "code",
   "execution_count": 5,
   "metadata": {},
   "outputs": [],
   "source": [
    "import torch\n",
    "import numpy as np\n",
    "import pandas as pd\n",
    "import os\n",
    "from scripts.qm9 import QM9"
   ]
  },
  {
   "cell_type": "markdown",
   "metadata": {},
   "source": [
    "## Definición de directorios"
   ]
  },
  {
   "cell_type": "code",
   "execution_count": 6,
   "metadata": {},
   "outputs": [],
   "source": [
    "path_splits_npy = \"/workspace/tesis-potenciales-moleculares/inferencia-fuerzas/splits.npz\"\n",
    "\n",
    "# Ruta al dataset que uso torchmd-net\n",
    "path_torchmdnet_dataset = \"/workspace/tesis-potenciales-moleculares/inferencia-fuerzas/dataset_qm9.pt\"\n",
    "\n",
    "# Ruta al modelo entrenado\n",
    "path_trained_model=\"/workspace/tesis-potenciales-moleculares/inferencia-fuerzas/epoch=669-val_loss=0.0003-test_loss=0.0064.ckpt\""
   ]
  },
  {
   "cell_type": "markdown",
   "metadata": {},
   "source": [
    "## Cargar modelo"
   ]
  },
  {
   "cell_type": "code",
   "execution_count": 7,
   "metadata": {},
   "outputs": [],
   "source": [
    "from torchmdnet.models.model import load_model\n",
    "model= load_model(path_trained_model, derivative=True)"
   ]
  },
  {
   "cell_type": "markdown",
   "metadata": {},
   "source": [
    "## Cargar database"
   ]
  },
  {
   "cell_type": "code",
   "execution_count": 8,
   "metadata": {},
   "outputs": [],
   "source": [
    "# Cargar archivo del dataset que utiliza torchmd-net\n",
    "torchmdnet_dataset = torch.load(path_torchmdnet_dataset)"
   ]
  },
  {
   "cell_type": "markdown",
   "metadata": {},
   "source": [
    "## Inferencias individuales"
   ]
  },
  {
   "cell_type": "code",
   "execution_count": 9,
   "metadata": {},
   "outputs": [],
   "source": [
    "#número de indice de molecula\n",
    "num_mol=10"
   ]
  },
  {
   "cell_type": "code",
   "execution_count": 15,
   "metadata": {},
   "outputs": [],
   "source": [
    "molecula=torchmdnet_dataset[num_mol]\n",
    "\n",
    "z_sample = molecula.z\n",
    "pos_sample = molecula.pos\n",
    "n_energy_sample = molecula.y\n",
    "# Hacer la inferencia\n",
    "n_energy_inferred, n_forces_inferred = model(z_sample, pos_sample)\n",
    "# Transformar la inferencia\n",
    "#n_energy_inferred = float(n_energy_inferred)\n",
    "#n_energy_sample = float(n_energy_sample)       "
   ]
  },
  {
   "cell_type": "code",
   "execution_count": 16,
   "metadata": {},
   "outputs": [
    {
     "name": "stdout",
     "output_type": "stream",
     "text": [
      "tensor([[-4184.7759]], grad_fn=<AddBackward0>)\n"
     ]
    }
   ],
   "source": [
    "print(n_energy_inferred) "
   ]
  },
  {
   "cell_type": "code",
   "execution_count": 20,
   "metadata": {},
   "outputs": [
    {
     "name": "stdout",
     "output_type": "stream",
     "text": [
      "tensor([[-0.2084, -0.7185,  0.0756],\n",
      "        [ 0.0928,  1.2006, -0.0136],\n",
      "        [ 0.3410, -0.0847, -0.1525],\n",
      "        [-0.0606, -0.1645,  0.0233],\n",
      "        [ 0.1452, -0.2372,  0.0919],\n",
      "        [ 0.0259, -0.2323, -0.1782],\n",
      "        [-0.3359,  0.2367,  0.1535]], grad_fn=<NegBackward0>)\n",
      "<class 'numpy.ndarray'>\n"
     ]
    }
   ],
   "source": [
    "n_forces_inferred=np.array(n_forces_inferred)\n",
    "print(n_forces_inferred)\n",
    "print(type(n_forces_inferred))"
   ]
  },
  {
   "cell_type": "markdown",
   "metadata": {},
   "source": [
    "## Creación de un nuevo database con fuerzas inferidas"
   ]
  },
  {
   "cell_type": "code",
   "execution_count": null,
   "metadata": {},
   "outputs": [],
   "source": [
    "\n",
    "\n",
    "# Cargar archivo splits\n",
    "splits_data = np.load(path_splits_npy)"
   ]
  },
  {
   "cell_type": "code",
   "execution_count": null,
   "metadata": {},
   "outputs": [],
   "source": [
    "# Acceder a la matriz específica dentro del archivo npz\n",
    "splits = splits_data['idx_test'] \n",
    "\n",
    "# Indexar el dataset con los índices de splits\n",
    "dataset_torchmdnet_test = torchmdnet_dataset[splits]"
   ]
  },
  {
   "cell_type": "code",
   "execution_count": null,
   "metadata": {},
   "outputs": [],
   "source": [
    "if not os.path.exists('data/inferencias_test.dat'):\n",
    "    with open('data/inferencias_test.dat', 'w') as file:\n",
    "        for molecula in dataset_torchmdnet_test:\n",
    "            z_sample = molecula.z\n",
    "            pos_sample = molecula.pos\n",
    "            n_energy_sample = molecula.y\n",
    "            # Hacer la inferencia\n",
    "            n_energy_inferred, n_forces_inferred = model(z_sample, pos_sample)\n",
    "            # Transformar la inferencia\n",
    "            n_energy_inferred = float(n_energy_inferred)\n",
    "            n_energy_sample = float(n_energy_sample)        \n",
    "            # Guardar los datos en el archivo\n",
    "            file.write(f\"{n_energy_sample} {n_energy_inferred}\\n\")\n",
    "else:\n",
    "    print(\"El archivo 'inferencias_test.dat' ya existe. No se ha realizado ninguna acción.\")"
   ]
  }
 ],
 "metadata": {
  "kernelspec": {
   "display_name": "torchmd-net",
   "language": "python",
   "name": "python3"
  },
  "language_info": {
   "codemirror_mode": {
    "name": "ipython",
    "version": 3
   },
   "file_extension": ".py",
   "mimetype": "text/x-python",
   "name": "python",
   "nbconvert_exporter": "python",
   "pygments_lexer": "ipython3",
   "version": "3.9.15"
  }
 },
 "nbformat": 4,
 "nbformat_minor": 2
}

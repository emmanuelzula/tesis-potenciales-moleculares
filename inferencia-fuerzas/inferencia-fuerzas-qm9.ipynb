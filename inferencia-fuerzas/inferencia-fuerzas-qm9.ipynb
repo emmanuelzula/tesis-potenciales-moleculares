{
 "cells": [
  {
   "cell_type": "markdown",
   "metadata": {},
   "source": [
    "# Inferencia de las fuerzas moleculares de los elementos del dataset QM9"
   ]
  },
  {
   "cell_type": "markdown",
   "metadata": {},
   "source": [
    "## Importación de módulos"
   ]
  },
  {
   "cell_type": "code",
   "execution_count": 1,
   "metadata": {},
   "outputs": [
    {
     "name": "stderr",
     "output_type": "stream",
     "text": [
      "/root/mambaforge/envs/torchmd-net/lib/python3.9/site-packages/tqdm/auto.py:22: TqdmWarning: IProgress not found. Please update jupyter and ipywidgets. See https://ipywidgets.readthedocs.io/en/stable/user_install.html\n",
      "  from .autonotebook import tqdm as notebook_tqdm\n"
     ]
    }
   ],
   "source": [
    "import torch\n",
    "import numpy as np\n",
    "import pandas as pd\n",
    "import os\n",
    "from scripts.qm9 import QM9"
   ]
  },
  {
   "cell_type": "markdown",
   "metadata": {},
   "source": [
    "## Definición de directorios"
   ]
  },
  {
   "cell_type": "code",
   "execution_count": 2,
   "metadata": {},
   "outputs": [],
   "source": [
    "path_splits_npy = \"/workspace/tesis-potenciales-moleculares/inferencia-fuerzas/splits.npz\"\n",
    "\n",
    "# Ruta al dataset que uso torchmd-net\n",
    "path_torchmdnet_dataset = \"/workspace/tesis-potenciales-moleculares/inferencia-fuerzas/dataset_qm9.pt\"\n",
    "\n",
    "# Ruta al modelo entrenado\n",
    "path_trained_model=\"/workspace/tesis-potenciales-moleculares/inferencia-fuerzas/epoch=669-val_loss=0.0003-test_loss=0.0064.ckpt\""
   ]
  },
  {
   "cell_type": "markdown",
   "metadata": {},
   "source": [
    "## Cargar modelo"
   ]
  },
  {
   "cell_type": "code",
   "execution_count": 3,
   "metadata": {},
   "outputs": [],
   "source": [
    "from torchmdnet.models.model import load_model\n",
    "model= load_model(path_trained_model, derivative=True)"
   ]
  },
  {
   "cell_type": "markdown",
   "metadata": {},
   "source": [
    "## Cargar database"
   ]
  },
  {
   "cell_type": "code",
   "execution_count": 4,
   "metadata": {},
   "outputs": [],
   "source": [
    "# Cargar archivo del dataset que utiliza torchmd-net\n",
    "torchmdnet_dataset = torch.load(path_torchmdnet_dataset)"
   ]
  },
  {
   "cell_type": "markdown",
   "metadata": {},
   "source": [
    "## Inferencias individuales"
   ]
  },
  {
   "cell_type": "code",
   "execution_count": 5,
   "metadata": {},
   "outputs": [],
   "source": [
    "#número de indice de molecula\n",
    "num_mol=10"
   ]
  },
  {
   "cell_type": "code",
   "execution_count": 6,
   "metadata": {},
   "outputs": [],
   "source": [
    "molecula=torchmdnet_dataset[num_mol]\n",
    "\n",
    "z_sample = molecula.z\n",
    "pos_sample = molecula.pos\n",
    "n_energy_sample = molecula.y\n",
    "# Hacer la inferencia\n",
    "n_energy_inferred, n_forces_inferred = model(z_sample, pos_sample)    "
   ]
  },
  {
   "cell_type": "code",
   "execution_count": 7,
   "metadata": {},
   "outputs": [
    {
     "name": "stdout",
     "output_type": "stream",
     "text": [
      "7\n",
      "6 6 8 1 1 1 1\n"
     ]
    }
   ],
   "source": [
    "print(len(z_sample))\n",
    "z_sample=z_sample.tolist()\n",
    "z_sample=\" \".join(map(str, z_sample))\n",
    "print(z_sample)"
   ]
  },
  {
   "cell_type": "code",
   "execution_count": 8,
   "metadata": {},
   "outputs": [
    {
     "name": "stdout",
     "output_type": "stream",
     "text": [
      "-0.002899999963119626 1.5098999738693237 0.008700000122189522 0.026100000366568565 0.0032999999821186066 -0.03750000149011612 0.942300021648407 -0.6550999879837036 -0.45680001378059387 0.9228000044822693 1.926300048828125 -0.39149999618530273 -0.8619999885559082 1.878499984741211 -0.5648000240325928 -0.15049999952316284 1.8438999652862549 1.0428999662399292 -0.8944000005722046 -0.4864000082015991 0.357699990272522\n"
     ]
    }
   ],
   "source": [
    "pos_sample=pos_sample.flatten().tolist()\n",
    "pos_sample=\" \".join(map(str, pos_sample))\n",
    "print(pos_sample)"
   ]
  },
  {
   "cell_type": "code",
   "execution_count": 9,
   "metadata": {},
   "outputs": [
    {
     "name": "stdout",
     "output_type": "stream",
     "text": [
      "-4184.77392578125\n"
     ]
    }
   ],
   "source": [
    "n_energy_sample=float(n_energy_sample)\n",
    "print(n_energy_sample)"
   ]
  },
  {
   "cell_type": "code",
   "execution_count": 10,
   "metadata": {},
   "outputs": [
    {
     "name": "stdout",
     "output_type": "stream",
     "text": [
      "-4184.77587890625\n"
     ]
    }
   ],
   "source": [
    "n_energy_inferred=float(n_energy_inferred)\n",
    "print(n_energy_inferred) "
   ]
  },
  {
   "cell_type": "code",
   "execution_count": 11,
   "metadata": {},
   "outputs": [
    {
     "name": "stdout",
     "output_type": "stream",
     "text": [
      "-0.20835840702056885 -0.7185043096542358 0.07556511461734772 0.09281401336193085 1.2005568742752075 -0.013574824668467045 0.34101295471191406 -0.08474382758140564 -0.15249665081501007 -0.060598645359277725 -0.16454747319221497 0.02326197549700737 0.14518292248249054 -0.23716624081134796 0.09191824495792389 0.025890395045280457 -0.23225143551826477 -0.17816713452339172 -0.3359432518482208 0.23665641248226166 0.15349328517913818\n"
     ]
    }
   ],
   "source": [
    "n_forces_inferred=n_forces_inferred.flatten().tolist()\n",
    "n_forces_inferred=\" \".join(map(str, n_forces_inferred))\n",
    "print(n_forces_inferred)"
   ]
  },
  {
   "cell_type": "markdown",
   "metadata": {},
   "source": [
    "## Creación de un nuevo database con fuerzas inferidas"
   ]
  },
  {
   "cell_type": "markdown",
   "metadata": {},
   "source": [
    "## Importación de módulos"
   ]
  },
  {
   "cell_type": "code",
   "execution_count": 12,
   "metadata": {},
   "outputs": [],
   "source": [
    "import numpy as np\n",
    "import h5py\n",
    "import random\n",
    "import os\n",
    "import shutil"
   ]
  },
  {
   "cell_type": "markdown",
   "metadata": {},
   "source": [
    "## Creación de carpetas"
   ]
  },
  {
   "cell_type": "code",
   "execution_count": 13,
   "metadata": {},
   "outputs": [],
   "source": [
    "nombre_carpeta = \"temp\"\n",
    "\n",
    "if os.path.exists(nombre_carpeta) and os.path.isdir(nombre_carpeta):\n",
    "    shutil.rmtree(nombre_carpeta)\n",
    "    os.mkdir(nombre_carpeta)\n",
    "else:\n",
    "    os.mkdir(nombre_carpeta)\n",
    "\n",
    "nombre_carpeta = \"datos-procesados\"\n",
    "\n",
    "if os.path.exists(nombre_carpeta) and os.path.isdir(nombre_carpeta):\n",
    "    shutil.rmtree(nombre_carpeta)\n",
    "    os.mkdir(nombre_carpeta)\n",
    "else:\n",
    "    os.mkdir(nombre_carpeta)"
   ]
  },
  {
   "cell_type": "code",
   "execution_count": 14,
   "metadata": {},
   "outputs": [],
   "source": [
    "for molecula in torchmdnet_dataset:\n",
    "    #Definición de variables\n",
    "    z_sample = molecula.z\n",
    "    pos_sample = molecula.pos\n",
    "    n_energy_sample = molecula.y\n",
    "\n",
    "    # Realización de la inferencia\n",
    "    n_energy_inferred, n_forces_inferred = model(z_sample, pos_sample)\n",
    "\n",
    "    # Transformar la inferencia en texto\n",
    "    z_sample=z_sample.tolist()\n",
    "    z_sample=\" \".join(map(str, z_sample))\n",
    "\n",
    "    pos_sample=pos_sample.flatten().tolist()\n",
    "    pos_sample=\" \".join(map(str, pos_sample))\n",
    "\n",
    "    n_energy_sample=float(n_energy_sample)\n",
    "\n",
    "    n_energy_inferred=float(n_energy_inferred)\n",
    "\n",
    "    n_forces_inferred=n_forces_inferred.flatten().tolist()\n",
    "    n_forces_inferred=\" \".join(map(str, n_forces_inferred))\n",
    "\n",
    "    # Guardar en archivos temporales\n",
    "    with open(\"temp/z.data\", \"a\") as file:\n",
    "        line = z_sample\n",
    "        file.write(line + \"\\n\")\n",
    "        \n",
    "    with open(\"temp/pos.data\", \"a\") as file:\n",
    "        line = pos_sample\n",
    "        file.write(line + \"\\n\")\n",
    "\n",
    "    with open(\"temp/energy_sample.data\", \"a\") as file:\n",
    "        line = str(n_energy_sample)\n",
    "        file.write(line + \"\\n\")\n",
    "\n",
    "    with open(\"temp/energy_inferred.data\", \"a\") as file:\n",
    "        line = str(n_energy_inferred)\n",
    "        file.write(line + \"\\n\")\n",
    "\n",
    "    with open(\"temp/forces_inferred.data\", \"a\") as file:\n",
    "        line = n_forces_inferred\n",
    "        file.write(line + \"\\n\")"
   ]
  }
 ],
 "metadata": {
  "kernelspec": {
   "display_name": "torchmd-net",
   "language": "python",
   "name": "torchmd-net"
  }
 },
 "nbformat": 4,
 "nbformat_minor": 2
}

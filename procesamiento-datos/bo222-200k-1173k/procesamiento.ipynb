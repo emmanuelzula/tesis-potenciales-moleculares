{
 "cells": [
  {
   "cell_type": "markdown",
   "metadata": {},
   "source": [
    "# Procesamiento de los datos del Dataset bo222k-1173.xyz"
   ]
  },
  {
   "cell_type": "markdown",
   "metadata": {},
   "source": [
    "## Exploración de los datos"
   ]
  },
  {
   "cell_type": "markdown",
   "metadata": {},
   "source": [
    "### Número de átomos por muestra"
   ]
  },
  {
   "cell_type": "code",
   "execution_count": null,
   "metadata": {},
   "outputs": [],
   "source": [
    "# Nombre del archivo\n",
    "nombre_archivo = \"bo222-200k-1173k.xyz\"\n",
    "\n",
    "#Encontrar número de nuestras\n",
    "numero_muestras=0\n",
    "with open(nombre_archivo, \"r\") as archivo:\n",
    "    lista_atomos_en_molecula=[]\n",
    "    for linea in archivo:\n",
    "        linea=linea.split()\n",
    "        if len(linea)==1:\n",
    "            lista_atomos_en_molecula.append(linea[0])\n",
    "            numero_muestras=numero_muestras+1\n",
    "# Crear un conjunto de números únicos en la lista\n",
    "numeros_unicos = set(lista_atomos_en_molecula)\n",
    "\n",
    "# Iterar sobre los números únicos y contar cuántas veces aparecen en la lista\n",
    "for numero in numeros_unicos:\n",
    "    veces_que_aparece = lista_atomos_en_molecula.count(numero)\n",
    "    print(f\"{veces_que_aparece} muestras tienen {numero} átomos cada una.\")\n",
    "\n",
    "if len(numeros_unicos)==1:\n",
    "    numero_atomos=int(numeros_unicos.pop())\n",
    "    print(\"Todas las muestras tienen el mismo número de átomos, este notebook funcionara correctamente.\")\n",
    "else:\n",
    "    print(\"Las muestras tienen distintos números de átomos, este notebook NO FUNCIONARÁ corretamente.\")"
   ]
  },
  {
   "cell_type": "markdown",
   "metadata": {},
   "source": [
    "## Ejemplo de muestra"
   ]
  },
  {
   "cell_type": "code",
   "execution_count": null,
   "metadata": {},
   "outputs": [],
   "source": [
    "# Nombre del archivo\n",
    "nombre_archivo = \"bo222-200k-1173k.xyz\"\n",
    "numero_de_muestras_a_imprimir=2\n",
    "\n",
    "with open(nombre_archivo, \"r\") as archivo:\n",
    "     # Inicializamos un contador de muestras\n",
    "    contador_muestras = 0\n",
    "    # Iteramos sobre las líneas del archivo\n",
    "    for linea in archivo:\n",
    "        # Si encontramos una línea que comienza con \"MD_Step\", incrementamos el contador\n",
    "        if linea.startswith(str(numero_atomos)):\n",
    "            contador_muestras += 1\n",
    "            # Imprimimos la información de la muestra\n",
    "            print(f\"Muestra {contador_muestras}:\\n{linea.strip()}\")  # strip() elimina los espacios en blanco al principio y al final\n",
    "            for _ in range(numero_atomos+1):\n",
    "                print(str(archivo.readline().strip()))  # Imprimimos las siguientes 4 líneas (coordinadas de átomos)\n",
    "\n",
    "            # Salto de línea para separar las muestras en la impresión\n",
    "            print()\n",
    "\n",
    "            # Si ya hemos impreso las dos primeras muestras, salimos del bucle\n",
    "            if contador_muestras == numero_de_muestras_a_imprimir:\n",
    "                break\n"
   ]
  },
  {
   "cell_type": "markdown",
   "metadata": {},
   "source": [
    "Unicamente los datos correspondientes a la energía total del arreglo (meV), las posiciones(A) y fuerzas de los átomos son de nuestro intéres(meV/A)."
   ]
  },
  {
   "cell_type": "markdown",
   "metadata": {},
   "source": [
    "## Procesamiento de los datos"
   ]
  },
  {
   "cell_type": "markdown",
   "metadata": {},
   "source": [
    "### Importación de módulos"
   ]
  },
  {
   "cell_type": "code",
   "execution_count": null,
   "metadata": {},
   "outputs": [],
   "source": [
    "import numpy as np\n",
    "import h5py\n",
    "import random\n",
    "import os\n",
    "import shutil"
   ]
  },
  {
   "cell_type": "markdown",
   "metadata": {},
   "source": [
    "### Creación de la carpeta auxiliar temp"
   ]
  },
  {
   "cell_type": "code",
   "execution_count": null,
   "metadata": {},
   "outputs": [],
   "source": [
    "carpetas=[\"temp\",\"datos-procesados\"]\n",
    "for nombre_carpeta in carpetas:\n",
    "    if os.path.exists(nombre_carpeta) and os.path.isdir(nombre_carpeta):\n",
    "        shutil.rmtree(nombre_carpeta)\n",
    "        os.mkdir(nombre_carpeta)\n",
    "    else:\n",
    "        os.mkdir(nombre_carpeta)"
   ]
  },
  {
   "cell_type": "markdown",
   "metadata": {},
   "source": [
    "### Funciones "
   ]
  },
  {
   "cell_type": "code",
   "execution_count": null,
   "metadata": {},
   "outputs": [],
   "source": [
    "#Intercamcio de elemento por su posición en la tabla periodica\n",
    "def posicion_en_tabla_periodica(elemento_quimico):\n",
    "    tabla_periodica = {\n",
    "        \"H\": 1, \"He\": 2, \"Li\": 3, \"Be\": 4, \"B\": 5, \"C\": 6, \"N\": 7, \"O\": 8, \"F\": 9, \"Ne\": 10,\n",
    "        \"Na\": 11, \"Mg\": 12, \"Al\": 13, \"Si\": 14, \"P\": 15, \"S\": 16, \"Cl\": 17, \"Ar\": 18,\n",
    "        \"K\": 19, \"Ca\": 20, \"Sc\": 21, \"Ti\": 22, \"V\": 23, \"Cr\": 24, \"Mn\": 25, \"Fe\": 26, \"Ni\": 27, \"Co\": 28,\n",
    "        \"Cu\": 29, \"Zn\": 30, \"Ga\": 31, \"Ge\": 32, \"As\": 33, \"Se\": 34, \"Br\": 35, \"Kr\": 36,\n",
    "        \"Rb\": 37, \"Sr\": 38, \"Y\": 39, \"Zr\": 40, \"Nb\": 41, \"Mo\": 42, \"Tc\": 43, \"Ru\": 44, \"Rh\": 45, \"Pd\": 46,\n",
    "        \"Ag\": 47, \"Cd\": 48, \"In\": 49, \"Sn\": 50, \"Sb\": 51, \"Te\": 52, \"I\": 53, \"Xe\": 54,\n",
    "        \"Cs\": 55, \"Ba\": 56, \"La\": 57, \"Hf\": 72, \"Ta\": 73, \"W\": 74, \"Re\": 75, \"Os\": 76, \"Ir\": 77, \"Pt\": 78,\n",
    "        \"Au\": 79, \"Hg\": 80, \"Tl\": 81, \"Pb\": 82, \"Bi\": 83, \"Th\": 90, \"Pa\": 91, \"U\": 92, \"Np\": 93, \"Pu\": 94,\n",
    "        \"Am\": 95, \"Cm\": 96, \"Bk\": 97, \"Cf\": 98, \"Es\": 99, \"Fm\": 100\n",
    "    }\n",
    "\n",
    "    elemento = elemento_quimico.capitalize()\n",
    "    if elemento in tabla_periodica:\n",
    "        return tabla_periodica[elemento]\n",
    "    else:\n",
    "        return None"
   ]
  },
  {
   "cell_type": "markdown",
   "metadata": {},
   "source": [
    "### Guardar los datos seleccionados en archivos .data"
   ]
  },
  {
   "cell_type": "code",
   "execution_count": null,
   "metadata": {},
   "outputs": [],
   "source": [
    "# Nombre del archivo\n",
    "nombre_archivo = \"bo222-200k-1173k.xyz\"\n",
    "\n",
    "#Encontrar número de nuestras\n",
    "with open(nombre_archivo, \"r\") as archivo:\n",
    "    for linea in archivo:\n",
    "        linea=linea.split()\n",
    "        if len(linea)==1:\n",
    "            continue\n",
    "        if len(linea)==5:\n",
    "            n_energy=[linea[-1]]\n",
    "            with open(\"temp/energy.data\", \"a\") as file:\n",
    "                line = \" \".join(str(elemento) for elemento in n_energy)\n",
    "                file.write(line + \"\\n\")\n",
    "        if len(linea)==7:\n",
    "            z=posicion_en_tabla_periodica(linea[0])\n",
    "            n_type=[z]\n",
    "            n_pos=[linea[1],linea[2],linea[3]]\n",
    "            n_force=[linea[4],linea[5],linea[6]]\n",
    "            with open(\"temp/pos.data\", \"a\") as file:\n",
    "                line = \" \".join(str(elemento) for elemento in n_pos)\n",
    "                file.write(line + \"\\n\")\n",
    "            with open(\"temp/type.data\", \"a\") as file:\n",
    "                line = \" \".join(str(elemento) for elemento in n_type)\n",
    "                file.write(line + \"\\n\")\n",
    "            with open(\"temp/force.data\", \"a\") as file:\n",
    "                line = \" \".join(str(elemento) for elemento in n_force)\n",
    "                file.write(line + \"\\n\")\n",
    "print(\"Los datos seleccionados han sido guardados\")"
   ]
  },
  {
   "cell_type": "markdown",
   "metadata": {},
   "source": [
    "### Cargar datos en numpy arrays"
   ]
  },
  {
   "cell_type": "code",
   "execution_count": null,
   "metadata": {},
   "outputs": [],
   "source": [
    "# Leer los datos del archivo \"energy.data\"\n",
    "with open(\"temp/energy.data\", \"r\") as f:\n",
    "    lines = f.readlines()\n",
    "# Procesar los datos y crear un arreglo NumPy\n",
    "data = []\n",
    "for line in lines:\n",
    "    values = line.strip().split()\n",
    "    data.append([float(val) for val in values])\n",
    "# Convertir la lista en un arreglo NumPy\n",
    "energy = np.array(data)\n",
    "\n",
    "# Leer los datos del archivo \"type.data\"\n",
    "with open(\"temp/type.data\", \"r\") as f:\n",
    "    lines = f.readlines()\n",
    "# Procesar los datos y crear un arreglo NumPy\n",
    "data = []\n",
    "for line in lines:\n",
    "    values = line.strip().split()\n",
    "    data.append([float(val) for val in values])\n",
    "# Convertir la lista en un arreglo NumPy\n",
    "types = np.array(data)\n",
    "\n",
    "# Leer los datos del archivo \"pos.data\"\n",
    "with open(\"temp/pos.data\", \"r\") as f:\n",
    "    lines = f.readlines()\n",
    "# Procesar los datos y crear un arreglo NumPy\n",
    "data = []\n",
    "for line in lines:\n",
    "    values = line.strip().split()\n",
    "    data.append([float(val) for val in values])\n",
    "# Convertir la lista en un arreglo NumPy\n",
    "pos = np.array(data)\n",
    "\n",
    "# Leer los datos del archivo \"force.data\"\n",
    "with open(\"temp/force.data\", \"r\") as f:\n",
    "    lines = f.readlines()\n",
    "# Procesar los datos y crear un arreglo NumPy\n",
    "data = []\n",
    "for line in lines:\n",
    "    values = line.strip().split()\n",
    "    data.append([float(val) for val in values])\n",
    "# Convertir la lista en un arreglo NumPy\n",
    "forces = np.array(data)\n",
    "\n",
    "print(\"\\narray's creados\")"
   ]
  },
  {
   "cell_type": "markdown",
   "metadata": {},
   "source": [
    "### Convertir los datos a las dimensiones correspondientes"
   ]
  },
  {
   "cell_type": "code",
   "execution_count": null,
   "metadata": {},
   "outputs": [],
   "source": [
    "# Acomodo de dimensiones\n",
    "energy=np.reshape(energy,(numero_muestras))\n",
    "pos=np.reshape(pos,(numero_muestras,numero_atomos,3))\n",
    "types=np.reshape(types,(numero_muestras,numero_atomos))\n",
    "forces=np.reshape(forces,(numero_muestras,numero_atomos,3))\n",
    "\n",
    "print(\"\\nDimensiones acomodadas\")"
   ]
  },
  {
   "cell_type": "markdown",
   "metadata": {},
   "source": [
    "### Guardar en archivo .h5 (sin fuerzas)"
   ]
  },
  {
   "cell_type": "code",
   "execution_count": null,
   "metadata": {},
   "outputs": [],
   "source": [
    "########################################################\n",
    "filename = \"datos-procesados/bo222-200k-1173k.h5\"##\n",
    "########################################################\n",
    "\n",
    "f=h5py.File(filename, \"w\")\n",
    "\n",
    "##############################\n",
    "group_name = \"bo222-200k-1173k\"##\n",
    "##############################\n",
    "\n",
    "group = f.create_group(group_name)\n",
    "\n",
    "# Guardar datos en el grupo\n",
    "group.create_dataset(\"types\", data=types)\n",
    "group.create_dataset(\"pos\", data=pos)\n",
    "group.create_dataset(\"energy\", data=energy)\n",
    "\n",
    "f.close()"
   ]
  },
  {
   "cell_type": "markdown",
   "metadata": {},
   "source": [
    "### Guardar en archivo .h5 (con fuerzas)"
   ]
  },
  {
   "cell_type": "code",
   "execution_count": null,
   "metadata": {},
   "outputs": [],
   "source": [
    "########################################################\n",
    "filename = \"datos-procesados/bo222-200k-1173k-f.h5\"##\n",
    "########################################################\n",
    "\n",
    "f=h5py.File(filename, \"w\")\n",
    "\n",
    "##############################\n",
    "group_name = \"bo222-200k-1173k\"##\n",
    "##############################\n",
    "\n",
    "group = f.create_group(group_name)\n",
    "\n",
    "# Guardar datos en el grupo\n",
    "group.create_dataset(\"types\", data=types)\n",
    "group.create_dataset(\"pos\", data=pos)\n",
    "group.create_dataset(\"energy\", data=energy)\n",
    "group.create_dataset(\"forces\", data=forces)\n",
    "\n",
    "f.close()"
   ]
  },
  {
   "cell_type": "markdown",
   "metadata": {},
   "source": [
    "### Eliminación de la carpeta auxiliar"
   ]
  },
  {
   "cell_type": "code",
   "execution_count": null,
   "metadata": {},
   "outputs": [],
   "source": [
    "nombre_carpeta=\"temp\"\n",
    "if os.path.exists(nombre_carpeta) and os.path.isdir(nombre_carpeta):\n",
    "    shutil.rmtree(nombre_carpeta)"
   ]
  }
 ],
 "metadata": {
  "kernelspec": {
   "display_name": "torchmd-net",
   "language": "python",
   "name": "python3"
  },
  "language_info": {
   "codemirror_mode": {
    "name": "ipython",
    "version": 3
   },
   "file_extension": ".py",
   "mimetype": "text/x-python",
   "name": "python",
   "nbconvert_exporter": "python",
   "pygments_lexer": "ipython3",
   "version": "3.9.15"
  }
 },
 "nbformat": 4,
 "nbformat_minor": 2
}

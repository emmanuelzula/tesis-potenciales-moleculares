{
 "cells": [
  {
   "cell_type": "markdown",
   "metadata": {},
   "source": [
    "# Procesamiento de los datos"
   ]
  },
  {
   "cell_type": "markdown",
   "metadata": {},
   "source": [
    "## Exploración de los datos"
   ]
  },
  {
   "cell_type": "code",
   "execution_count": 3,
   "metadata": {},
   "outputs": [
    {
     "name": "stdout",
     "output_type": "stream",
     "text": [
      "Muestra 1:\n",
      "begin\n",
      " atom    -0.5088619469     0.6465231181    -0.7523580470    Pt    -0.019779   0.00    -0.0061096361    0.0000417696   -0.0090780195 \n",
      " atom    -0.1019002647     3.0988826216     3.4420952397    Pt    -0.042923   0.00    -0.0014660338   -0.0016782891    0.0085067604 \n",
      " atom     3.8922418528     0.1897968059     3.6961121392    Pt     0.060364   0.00    -0.0012657784   -0.0008649976    0.0045574247 \n",
      " atom     2.3536201889    -1.5371028261     8.1018207729    Pt    -0.033898   0.00    -0.0039134251    0.0070078585   -0.0005063838 \n",
      " atom     2.8156565049    -5.7685142829     5.7079283639    Pt    -0.023967   0.00    -0.0006972047   -0.0103496587    0.0018396179 \n",
      " atom     6.7212719819    -3.8816512388     3.4843918122    Pt    -0.015857   0.00     0.0012600333    0.0011896847   -0.0057454817 \n",
      " atom     4.2881427800    -4.3366139264    -0.7696935952    Pt     0.016515   0.00    -0.0010321952    0.0082709918    0.0060865969 \n",
      " atom     0.5189413117    -3.1294513934     2.2425867695    Pt     0.046546   0.00     0.0000662178    0.0000532063    0.0004951507 \n",
      " atom    -1.9711277948    -0.7870548168     5.8664654221    Pt     0.030280   0.00     0.0093968482    0.0025261988   -0.0046188418 \n",
      " atom     4.3466140006     0.6021832785    -1.2131537574    Pt    -0.017283   0.00     0.0037611678   -0.0061967568   -0.0015368181 \n",
      "energy     -1191.8975670135 \n",
      "charge   0.000000\n",
      "\n",
      "Muestra 2:\n",
      "begin\n",
      " atom    -0.5086226633     0.6464273341    -0.7519552722    Pt    -0.018117   0.00    -0.0060568797    0.0000421280   -0.0089688361 \n",
      " atom    -0.1036718367     3.0981290141     3.4444833579    Pt    -0.044910   0.00    -0.0013145179   -0.0015445094    0.0082624274 \n",
      " atom     3.8933254379     0.1917233362     3.6972891183    Pt     0.062076   0.00    -0.0015773893   -0.0010013989    0.0042782529 \n",
      " atom     2.3570995696    -1.5355353547     8.1043364944    Pt    -0.033068   0.00    -0.0040489374    0.0067532640   -0.0008186580 \n",
      " atom     2.8165442627    -5.7702255788     5.7076641802    Pt    -0.024850   0.00    -0.0011484548   -0.0102269946    0.0022205783 \n",
      " atom     6.7149909815    -3.8827459272     3.4839282652    Pt    -0.016415   0.00     0.0020279637    0.0013634521   -0.0055313144 \n",
      " atom     4.2883249893    -4.3352767527    -0.7662054205    Pt     0.016159   0.00    -0.0011239615    0.0080698975    0.0054723199 \n",
      " atom     0.5185147610    -3.1312149810     2.2420197073    Pt     0.045129   0.00     0.0002742012    0.0003156214    0.0004796333 \n",
      " atom    -1.9688024099    -0.7870241296     5.8603265358    Pt     0.031540   0.00     0.0092589056    0.0023858194   -0.0040973434 \n",
      " atom     4.3469025297     0.6027319555    -1.2155991387    Pt    -0.017543   0.00     0.0037090680   -0.0061572591   -0.0012970609 \n",
      "energy     -1191.8976329409 \n",
      "charge   0.000000\n",
      "\n"
     ]
    }
   ],
   "source": [
    "with open('10pt-300-800K-tri-input.data', 'r') as file:\n",
    "    data = file.read()\n",
    "\n",
    "# Separar el archivo en bloques\n",
    "bloques = data.split('end')\n",
    "\n",
    "# Imprimir las dos primeras muestras\n",
    "for i in range(2):\n",
    "    bloque = bloques[i].strip()  # Eliminar espacios en blanco adicionales al principio o al final\n",
    "    print(f\"Muestra {i + 1}:\\n{bloque}\\n\")"
   ]
  },
  {
   "cell_type": "markdown",
   "metadata": {},
   "source": [
    "Unicamente los datos correspondientes a la energía total del arreglo (meV), las posiciones(A) y fuerzas de los átomos son de nuestro intéres(meV/A)."
   ]
  },
  {
   "cell_type": "markdown",
   "metadata": {},
   "source": [
    "## Procesamiento de los datos"
   ]
  },
  {
   "cell_type": "markdown",
   "metadata": {},
   "source": [
    "### Importación de módulos"
   ]
  },
  {
   "cell_type": "code",
   "execution_count": 4,
   "metadata": {},
   "outputs": [],
   "source": [
    "import numpy as np\n",
    "import h5py\n",
    "import random\n",
    "import os\n",
    "import shutil"
   ]
  },
  {
   "cell_type": "markdown",
   "metadata": {},
   "source": [
    "### Creación de la carpeta auxiliar temp"
   ]
  },
  {
   "cell_type": "code",
   "execution_count": 5,
   "metadata": {},
   "outputs": [],
   "source": [
    "nombre_carpeta = \"temp\"\n",
    "\n",
    "if os.path.exists(nombre_carpeta) and os.path.isdir(nombre_carpeta):\n",
    "    shutil.rmtree(nombre_carpeta)\n",
    "    os.mkdir(nombre_carpeta)\n",
    "else:\n",
    "    os.mkdir(nombre_carpeta)\n",
    "\n",
    "os.mkdir(\"datos-procesados\")"
   ]
  },
  {
   "cell_type": "markdown",
   "metadata": {},
   "source": [
    "### Funciones "
   ]
  },
  {
   "cell_type": "code",
   "execution_count": 6,
   "metadata": {},
   "outputs": [],
   "source": [
    "#Intercamcio de elemento por su posición en la tabla periodica\n",
    "def posicion_en_tabla_periodica(elemento_quimico):\n",
    "    tabla_periodica = {\n",
    "        \"H\": 1, \"He\": 2, \"Li\": 3, \"Be\": 4, \"B\": 5, \"C\": 6, \"N\": 7, \"O\": 8, \"F\": 9, \"Ne\": 10,\n",
    "        \"Na\": 11, \"Mg\": 12, \"Al\": 13, \"Si\": 14, \"P\": 15, \"S\": 16, \"Cl\": 17, \"Ar\": 18,\n",
    "        \"K\": 19, \"Ca\": 20, \"Sc\": 21, \"Ti\": 22, \"V\": 23, \"Cr\": 24, \"Mn\": 25, \"Fe\": 26, \"Ni\": 27, \"Co\": 28,\n",
    "        \"Cu\": 29, \"Zn\": 30, \"Ga\": 31, \"Ge\": 32, \"As\": 33, \"Se\": 34, \"Br\": 35, \"Kr\": 36,\n",
    "        \"Rb\": 37, \"Sr\": 38, \"Y\": 39, \"Zr\": 40, \"Nb\": 41, \"Mo\": 42, \"Tc\": 43, \"Ru\": 44, \"Rh\": 45, \"Pd\": 46,\n",
    "        \"Ag\": 47, \"Cd\": 48, \"In\": 49, \"Sn\": 50, \"Sb\": 51, \"Te\": 52, \"I\": 53, \"Xe\": 54,\n",
    "        \"Cs\": 55, \"Ba\": 56, \"La\": 57, \"Hf\": 72, \"Ta\": 73, \"W\": 74, \"Re\": 75, \"Os\": 76, \"Ir\": 77, \"Pt\": 78,\n",
    "        \"Au\": 79, \"Hg\": 80, \"Tl\": 81, \"Pb\": 82, \"Bi\": 83, \"Th\": 90, \"Pa\": 91, \"U\": 92, \"Np\": 93, \"Pu\": 94,\n",
    "        \"Am\": 95, \"Cm\": 96, \"Bk\": 97, \"Cf\": 98, \"Es\": 99, \"Fm\": 100\n",
    "    }\n",
    "\n",
    "    elemento = elemento_quimico.capitalize()\n",
    "    if elemento in tabla_periodica:\n",
    "        return tabla_periodica[elemento]\n",
    "    else:\n",
    "        return None"
   ]
  },
  {
   "cell_type": "markdown",
   "metadata": {},
   "source": [
    "### Exploración de los datos"
   ]
  },
  {
   "cell_type": "code",
   "execution_count": 7,
   "metadata": {},
   "outputs": [
    {
     "name": "stdout",
     "output_type": "stream",
     "text": [
      "\n",
      "El archivo tiene 11000 muestras\n",
      "\n",
      "Cada arreglo tiene 10 atomos\n",
      "\n",
      "Dando un total de 110000 atomos\n"
     ]
    }
   ],
   "source": [
    "###################################################\n",
    "archivo_entrada = \"10pt-300-800K-tri-input.data\" \n",
    "###################################################\n",
    "    \n",
    "#Encontrar número de nuestras\n",
    "num_muestras=0\n",
    "with open(archivo_entrada, \"r\") as f_in:\n",
    "    for linea in f_in:\n",
    "        linea=linea.split()\n",
    "        if linea[0]=='begin':\n",
    "            num_muestras=num_muestras+1\n",
    "\n",
    "print(f\"\\nEl archivo tiene {num_muestras} muestras\")\n",
    "\n",
    "#Encontrar número de átomos\n",
    "i=0\n",
    "num_atomos=0\n",
    "with open(archivo_entrada, \"r\") as f_in:\n",
    "    for linea in f_in:\n",
    "        linea=linea.split()\n",
    "        if linea[0]=='begin':\n",
    "            i=i+1\n",
    "        if i==2:\n",
    "            break\n",
    "        if linea[0]=='atom':\n",
    "            num_atomos=num_atomos+1\n",
    "\n",
    "print(f\"\\nCada arreglo tiene {num_atomos} atomos\")\n",
    "\n",
    "print(f\"\\nDando un total de {num_muestras*num_atomos} atomos\")"
   ]
  },
  {
   "cell_type": "markdown",
   "metadata": {},
   "source": [
    "### Guardar los datos seleccionados en archivos .data"
   ]
  },
  {
   "cell_type": "code",
   "execution_count": 8,
   "metadata": {},
   "outputs": [],
   "source": [
    "with open(archivo_entrada, \"r\") as f_in:\n",
    "    for linea in f_in:\n",
    "        linea=linea.split()\n",
    "        if linea[0]=='begin':\n",
    "            continue\n",
    "        if linea[0]=='atom':\n",
    "            n_pos=[linea[1],linea[2],linea[3]]\n",
    "            z=posicion_en_tabla_periodica(linea[4])\n",
    "            n_type=[z]\n",
    "            n_force=[linea[7],linea[8],linea[9]]\n",
    "            with open(\"temp/pos.data\", \"a\") as file:\n",
    "                line = \" \".join(str(elemento) for elemento in n_pos)\n",
    "                file.write(line + \"\\n\")\n",
    "            with open(\"temp/type.data\", \"a\") as file:\n",
    "                line = \" \".join(str(elemento) for elemento in n_type)\n",
    "                file.write(line + \"\\n\")\n",
    "            with open(\"temp/force.data\", \"a\") as file:\n",
    "                line = \" \".join(str(elemento) for elemento in n_force)\n",
    "                file.write(line + \"\\n\")\n",
    "        if linea[0]=='energy':\n",
    "            n_energy=[linea[1]]\n",
    "            with open(\"temp/energy.data\", \"a\") as file:\n",
    "                line = \" \".join(str(elemento) for elemento in n_energy)\n",
    "                file.write(line + \"\\n\")\n",
    "        if linea[0]=='charge':\n",
    "            continue\n",
    "        if linea[0]=='end':\n",
    "            continue\n",
    "\n",
    "print(\"\\nDatos procesados\")"
   ]
  },
  {
   "cell_type": "markdown",
   "metadata": {},
   "source": [
    "### Cargar datos en numpy arrays"
   ]
  },
  {
   "cell_type": "code",
   "execution_count": null,
   "metadata": {},
   "outputs": [],
   "source": [
    "# Leer los datos del archivo \"energy.data\"\n",
    "with open(\"temp/energy.data\", \"r\") as f:\n",
    "    lines = f.readlines()\n",
    "# Procesar los datos y crear un arreglo NumPy\n",
    "data = []\n",
    "for line in lines:\n",
    "    values = line.strip().split()\n",
    "    data.append([float(val) for val in values])\n",
    "# Convertir la lista en un arreglo NumPy\n",
    "energy = np.array(data)\n",
    "\n",
    "# Leer los datos del archivo \"type.data\"\n",
    "with open(\"temp/type.data\", \"r\") as f:\n",
    "    lines = f.readlines()\n",
    "# Procesar los datos y crear un arreglo NumPy\n",
    "data = []\n",
    "for line in lines:\n",
    "    values = line.strip().split()\n",
    "    data.append([float(val) for val in values])\n",
    "# Convertir la lista en un arreglo NumPy\n",
    "types = np.array(data)\n",
    "\n",
    "# Leer los datos del archivo \"pos.data\"\n",
    "with open(\"temp/pos.data\", \"r\") as f:\n",
    "    lines = f.readlines()\n",
    "# Procesar los datos y crear un arreglo NumPy\n",
    "data = []\n",
    "for line in lines:\n",
    "    values = line.strip().split()\n",
    "    data.append([float(val) for val in values])\n",
    "# Convertir la lista en un arreglo NumPy\n",
    "pos = np.array(data)\n",
    "\n",
    "# Leer los datos del archivo \"force.data\"\n",
    "with open(\"temp/force.data\", \"r\") as f:\n",
    "    lines = f.readlines()\n",
    "# Procesar los datos y crear un arreglo NumPy\n",
    "data = []\n",
    "for line in lines:\n",
    "    values = line.strip().split()\n",
    "    data.append([float(val) for val in values])\n",
    "# Convertir la lista en un arreglo NumPy\n",
    "forces = np.array(data)\n",
    "\n",
    "print(\"\\narray's creados\")"
   ]
  },
  {
   "cell_type": "markdown",
   "metadata": {},
   "source": [
    "### Convertir los datos a las dimensiones correspondientes"
   ]
  },
  {
   "cell_type": "code",
   "execution_count": null,
   "metadata": {},
   "outputs": [],
   "source": [
    "# Acomodo de dimensiones\n",
    "energy=np.reshape(energy,(num_muestras))\n",
    "pos=np.reshape(pos,(num_muestras,num_atomos,3))\n",
    "types=np.reshape(types,(num_muestras,num_atomos))\n",
    "forces=np.reshape(forces,(num_muestras,num_atomos,3))\n",
    "\n",
    "print(\"\\nDimensiones acomodadas\")"
   ]
  },
  {
   "cell_type": "markdown",
   "metadata": {},
   "source": [
    "### Separación de train y test"
   ]
  },
  {
   "cell_type": "code",
   "execution_count": null,
   "metadata": {},
   "outputs": [],
   "source": [
    "#Separación train, test\n",
    "\n",
    "#Generar una selección de indices aleatoria\n",
    "\n",
    "###################################\n",
    "seed_value = 42####################\n",
    "random.seed(seed_value)#############\n",
    "####################################\n",
    "num_test=int(0.05*num_muestras)#####\n",
    "####################################\n",
    "numeros = list(range(num_muestras))\n",
    "muestra_aleatoria = random.sample(numeros, num_test)  \n",
    "muestra_aleatoria.sort()\n",
    "muestra_aleatoria=np.array(muestra_aleatoria)\n",
    "\n",
    "energy_test=energy[muestra_aleatoria]\n",
    "pos_test=pos[muestra_aleatoria]\n",
    "types_test=types[muestra_aleatoria]\n",
    "forces_test=forces[muestra_aleatoria]\n",
    "\n",
    "energy=np.delete(energy,muestra_aleatoria, axis=0)\n",
    "pos=np.delete(pos,muestra_aleatoria, axis=0)\n",
    "types=np.delete(types,muestra_aleatoria, axis=0)\n",
    "forces=np.delete(forces,muestra_aleatoria, axis=0)"
   ]
  },
  {
   "cell_type": "markdown",
   "metadata": {},
   "source": [
    "### Guardar en archivo .h5 (train)"
   ]
  },
  {
   "cell_type": "code",
   "execution_count": null,
   "metadata": {},
   "outputs": [],
   "source": [
    "#train\n",
    "########################################################\n",
    "filename = \"datos-procesados/10pt-300-800K-tri-train.h5\"##\n",
    "########################################################\n",
    "\n",
    "f=h5py.File(filename, \"w\")\n",
    "\n",
    "##############################\n",
    "group_name = \"10pt-300-800K-tri\"##\n",
    "##############################\n",
    "\n",
    "group = f.create_group(group_name)\n",
    "\n",
    "# Guardar datos en el grupo\n",
    "group.create_dataset(\"types\", data=types)\n",
    "group.create_dataset(\"pos\", data=pos)\n",
    "group.create_dataset(\"energy\", data=energy)\n",
    "group.create_dataset(\"forces\", data=forces)\n",
    "\n",
    "f.close()"
   ]
  },
  {
   "cell_type": "markdown",
   "metadata": {},
   "source": [
    "### Guardar en archivo .h5 (test)"
   ]
  },
  {
   "cell_type": "code",
   "execution_count": null,
   "metadata": {},
   "outputs": [],
   "source": [
    "#test\n",
    "############################################################\n",
    "filename = \"datos-procesados/10pt-300-800K-tri-test.h5\"##\n",
    "############################################################\n",
    "\n",
    "f=h5py.File(filename, \"w\")\n",
    "\n",
    "###################################\n",
    "group_name = \"10pt-300-800K-tri-test\"##\n",
    "###################################\n",
    "\n",
    "group = f.create_group(group_name)\n",
    "\n",
    "# Guardar datos en el grupo\n",
    "group.create_dataset(\"types\", data=types_test)\n",
    "group.create_dataset(\"pos\", data=pos_test)\n",
    "group.create_dataset(\"energy\", data=energy_test)\n",
    "group.create_dataset(\"forces\", data=forces_test)\n",
    "\n",
    "f.close()\n",
    "\n",
    "print(\"\\nArchivos .h5 creados\")"
   ]
  },
  {
   "cell_type": "markdown",
   "metadata": {},
   "source": [
    "### Eliminación de la carpeta auxiliar"
   ]
  },
  {
   "cell_type": "code",
   "execution_count": null,
   "metadata": {},
   "outputs": [],
   "source": [
    "if os.path.exists(nombre_carpeta) and os.path.isdir(nombre_carpeta):\n",
    "    shutil.rmtree(nombre_carpeta)"
   ]
  }
 ],
 "metadata": {
  "kernelspec": {
   "display_name": "torchmd-net",
   "language": "python",
   "name": "python3"
  },
  "language_info": {
   "codemirror_mode": {
    "name": "ipython",
    "version": 3
   },
   "file_extension": ".py",
   "mimetype": "text/x-python",
   "name": "python",
   "nbconvert_exporter": "python",
   "pygments_lexer": "ipython3",
   "version": "3.9.15"
  }
 },
 "nbformat": 4,
 "nbformat_minor": 2
}

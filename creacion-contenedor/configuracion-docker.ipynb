{
 "cells": [
  {
   "cell_type": "markdown",
   "metadata": {},
   "source": [
    "# Creación contenedor"
   ]
  },
  {
   "cell_type": "markdown",
   "metadata": {},
   "source": [
    "## Instalación docker en linux"
   ]
  },
  {
   "cell_type": "markdown",
   "metadata": {},
   "source": [
    "Las instrucciones las podemos encontrar en la página de docker.\n",
    "\n",
    "Enlace: https://docs.docker.com/desktop/install/ubuntu/"
   ]
  },
  {
   "cell_type": "markdown",
   "metadata": {},
   "source": [
    "## Instalación docker en Windows"
   ]
  },
  {
   "cell_type": "markdown",
   "metadata": {},
   "source": [
    "Descargamos el ejecutable de la página oficial.\n",
    "\n",
    "Enlace: https://docs.docker.com/desktop/install/windows-install/"
   ]
  },
  {
   "cell_type": "markdown",
   "metadata": {},
   "source": [
    "## Descarga imagen inicial "
   ]
  },
  {
   "cell_type": "markdown",
   "metadata": {},
   "source": [
    "Descargamos la imagen de ubuntu con el siguiente comando.\n",
    "\n",
    "```bash\n",
    "docker pull ubuntu:22.04\n",
    "```"
   ]
  },
  {
   "cell_type": "markdown",
   "metadata": {},
   "source": [
    "Crear y ejecutar un contenedor interactivo"
   ]
  },
  {
   "cell_type": "markdown",
   "metadata": {},
   "source": [
    "```bash\n",
    "docker run -it --gpus all --name torchmd-config ubuntu:22.04 /bin/bash\n",
    "```"
   ]
  },
  {
   "cell_type": "markdown",
   "metadata": {},
   "source": [
    "\n",
    "El parámetro `-it` indica que el contenedor se ejecutará en modo interactivo.\n",
    "\n",
    "`--gpus all` le da acceso al contenedor a las gpus, en este caso todas\n",
    "\n",
    "`--name torchmd-config` le da un nombre al contenedor, en este caso, torchmd-config.\n",
    "\n",
    "`ubuntu:22.04` es el nombre de la imagen.\n",
    "\n",
    "`/bin/bash` especifica que queremos utilizar el shell Bash dentro del contenedor."
   ]
  },
  {
   "cell_type": "markdown",
   "metadata": {},
   "source": [
    "## Instalación dependencias básicas"
   ]
  },
  {
   "cell_type": "markdown",
   "metadata": {},
   "source": [
    "### Actualizar la imagen"
   ]
  },
  {
   "cell_type": "markdown",
   "metadata": {},
   "source": [
    "```bash\n",
    "apt update\n",
    "```"
   ]
  },
  {
   "cell_type": "markdown",
   "metadata": {},
   "source": [
    "### Git"
   ]
  },
  {
   "cell_type": "markdown",
   "metadata": {},
   "source": [
    "```bash\n",
    "apt install git\n",
    "```"
   ]
  },
  {
   "cell_type": "markdown",
   "metadata": {},
   "source": [
    "### Curl"
   ]
  },
  {
   "cell_type": "markdown",
   "metadata": {},
   "source": [
    "```bash\n",
    "apt install curl\n",
    "```"
   ]
  },
  {
   "cell_type": "markdown",
   "metadata": {},
   "source": [
    "### Mamba"
   ]
  },
  {
   "cell_type": "markdown",
   "metadata": {},
   "source": [
    "Nos dirigimos al directorio /tmp"
   ]
  },
  {
   "cell_type": "markdown",
   "metadata": {},
   "source": [
    "```bash\n",
    "cd /tmp\n",
    "```"
   ]
  },
  {
   "cell_type": "markdown",
   "metadata": {},
   "source": [
    "Descargamos el ejecutable de Mamba"
   ]
  },
  {
   "cell_type": "markdown",
   "metadata": {},
   "source": [
    "```bash\n",
    "curl -L -O \"https://github.com/conda-forge/miniforge/releases/latest/download/Miniforge3-$(uname)-$(uname -m).sh\"\n",
    "```"
   ]
  },
  {
   "cell_type": "markdown",
   "metadata": {},
   "source": [
    "Lo instalamos"
   ]
  },
  {
   "cell_type": "markdown",
   "metadata": {},
   "source": [
    "```bash\n",
    "bash Miniforge3-$(uname)-$(uname -m).sh\n",
    "```"
   ]
  },
  {
   "cell_type": "markdown",
   "metadata": {},
   "source": [
    "Cuando nos pregunte lo siguiente, seleccionamos yes."
   ]
  },
  {
   "cell_type": "markdown",
   "metadata": {},
   "source": [
    "Do you wish to update your shell profile to automatically initialize conda?\n",
    "This will activate conda on startup and change the command prompt when activated.\n",
    "If you'd prefer that conda's base environment not be activated on startup,\n",
    "   run the following command when conda is activated:\n",
    "\n",
    "conda config --set auto_activate_base false\n",
    "\n",
    "You can undo this by running `conda init --reverse $SHELL`? [yes|no]\n",
    "[no] >>> "
   ]
  },
  {
   "cell_type": "markdown",
   "metadata": {},
   "source": [
    "### Reinicio del contenedor"
   ]
  },
  {
   "cell_type": "markdown",
   "metadata": {},
   "source": [
    "Nos salimos del contenedor con el comando\n",
    "\n",
    "```bash\n",
    "exit\n",
    "```"
   ]
  },
  {
   "cell_type": "markdown",
   "metadata": {},
   "source": [
    "Detenemos el contenedor con el comando\n",
    "\n",
    "```bash\n",
    "docker stop torchmd-config\n",
    "```"
   ]
  },
  {
   "cell_type": "markdown",
   "metadata": {},
   "source": [
    "Iniciamos el contenedor con el comando\n",
    "```bash\n",
    "docker start torchmd-config\n",
    "```"
   ]
  },
  {
   "cell_type": "markdown",
   "metadata": {},
   "source": [
    "Entramos al contenedor con el comando\n",
    "\n",
    "```bash\n",
    "docker exec -it torchmd-config /bin/bash\n",
    "```"
   ]
  },
  {
   "cell_type": "markdown",
   "metadata": {},
   "source": [
    "## Instalación de la arquitectura torchmd-net"
   ]
  },
  {
   "cell_type": "markdown",
   "metadata": {},
   "source": [
    "Nos dirigimos a la carpeta /temp con el comando.\n",
    "\n",
    "```bash\n",
    "cd /tmp\n",
    "```"
   ]
  },
  {
   "cell_type": "markdown",
   "metadata": {},
   "source": [
    "Descargamos el repositorio de GitHub\n",
    "\n",
    "```bash\n",
    "git clone https://github.com/torchmd/torchmd-net.git\n",
    "```"
   ]
  },
  {
   "cell_type": "markdown",
   "metadata": {},
   "source": [
    "Vamos a la carpeta del repositorio\n",
    "```bash\n",
    "cd torchmd-net\n",
    "```"
   ]
  },
  {
   "cell_type": "markdown",
   "metadata": {},
   "source": [
    "Creamos el ambiente virtual con el comado\n",
    "\n",
    "```bash\n",
    "mamba env create -f environment.yml\n",
    "```"
   ]
  },
  {
   "cell_type": "markdown",
   "metadata": {},
   "source": [
    "Lo activamos con\n",
    "```bash\n",
    "mamba activate torchmd-net\n",
    "```"
   ]
  },
  {
   "cell_type": "markdown",
   "metadata": {},
   "source": [
    "## Habilitar uso de gpu"
   ]
  },
  {
   "cell_type": "markdown",
   "metadata": {},
   "source": [
    "Dentro del ambiente virtual corroboramos nuestra versión de cuda con\n",
    "\n",
    "```bash\n",
    "python -c \"import torch; print(torch.version.cuda)\"\n",
    "```"
   ]
  },
  {
   "cell_type": "markdown",
   "metadata": {},
   "source": [
    "### Si CUDA>=12"
   ]
  },
  {
   "cell_type": "markdown",
   "metadata": {},
   "source": [
    "Instalamos las dependencias con\n",
    "\n",
    "```bash\n",
    "conda install -c conda-forge cuda-nvcc cuda-libraries-dev cuda-version \"gxx<12\" pytorch=*=*cuda*\n",
    "```"
   ]
  },
  {
   "cell_type": "markdown",
   "metadata": {},
   "source": [
    "### Si CUDA<12"
   ]
  },
  {
   "cell_type": "markdown",
   "metadata": {},
   "source": [
    "Instalamos las dependencias con\n",
    "\n",
    "```bash\n",
    "conda install -c nvidia \"cuda-nvcc<12\" \"cuda-libraries-dev<12\" \"cuda-version<12\" \"gxx<12\" pytorch=*=*cuda*\n",
    "```"
   ]
  },
  {
   "cell_type": "markdown",
   "metadata": {},
   "source": [
    "## Instalar codigo arquitectura torchmd-net en el ambiente virtual"
   ]
  },
  {
   "cell_type": "markdown",
   "metadata": {},
   "source": [
    "Para poder ejecutar torchmd-net en terminal debemos instalarlo, en el directorio /tmp/torchmd-net ejecutamos el comando.\n",
    "\n",
    "```bash\n",
    "pip install -e .\n",
    "```"
   ]
  },
  {
   "cell_type": "markdown",
   "metadata": {},
   "source": [
    "## Instalar Jupyter notebook"
   ]
  },
  {
   "cell_type": "markdown",
   "metadata": {},
   "source": [
    "Dentro del ambiente virtual intalamos jupyter notebook e ipykernel con los comandos\n",
    "\n",
    "```bash\n",
    "pip install notebook\n",
    "pip install ipykernel\n",
    "```"
   ]
  },
  {
   "cell_type": "markdown",
   "metadata": {},
   "source": [
    "### Registar ambiente virtual como ipykernel"
   ]
  },
  {
   "cell_type": "markdown",
   "metadata": {},
   "source": [
    "```bash\n",
    "python -m ipykernel install --user --name=torchmd-net\n",
    "```"
   ]
  },
  {
   "cell_type": "markdown",
   "metadata": {},
   "source": [
    "## Subir contenedor a docker hub"
   ]
  },
  {
   "cell_type": "markdown",
   "metadata": {},
   "source": [
    "```bash\n",
    "docker commit fb95480f4d39 emmanuelzula/tesis:0.1\n",
    "\n",
    "docker push emmanuelzula/tesis:0.1\n",
    "```"
   ]
  },
  {
   "cell_type": "markdown",
   "metadata": {},
   "source": [
    "## Configuración de funcionalidad"
   ]
  },
  {
   "cell_type": "markdown",
   "metadata": {},
   "source": [
    "Creación del archivo DockerFile dondé se encontrará la configuración"
   ]
  },
  {
   "cell_type": "markdown",
   "metadata": {},
   "source": [
    "```DockerFile\n",
    "# Usa una imagen base de Ubuntu\n",
    "FROM emmanuelzula/tesis:0.1\n",
    "\n",
    "# Documenta la intención de exponer el puerto 8888, pero no lo publica por sí mismo\n",
    "# Recuerda usar -p al ejecutar el contenedor para mapear el puerto de host al contenedor\n",
    "EXPOSE map[8888/tcp:{}]\n",
    "\n",
    "# Establece el directorio de trabajo en /workspace\n",
    "WORKDIR /workspace\n",
    "\n",
    "# Ejecuta un comando durante la construcción de la imagen\n",
    "# Agrega una línea al final de ~/.bashrc para activar el ambiente virtual 'torchmd-net'\n",
    "RUN /bin/sh -c echo \"mamba activate torchmd-net\" >> ~/.bashrc # buildkit\n",
    "\n",
    "\n",
    "# Comando por defecto al iniciar el contenedor\n",
    "# Activa automáticamente el ambiente virtual al iniciar el contenedor\n",
    "CMD [\"bash\"]\n",
    "```"
   ]
  },
  {
   "cell_type": "markdown",
   "metadata": {},
   "source": [
    "En el directorio donde se encuentra el Dockerfile ejecutamos.\n",
    "```bash\n",
    "docker build -t nombre-de-la-imagen:etiqueta .\n",
    "```"
   ]
  },
  {
   "cell_type": "markdown",
   "metadata": {},
   "source": [
    "Corroboramos que la imagen se haya creado correctamente con el comando.\n",
    "```bash\n",
    "docker images\n",
    "```"
   ]
  },
  {
   "cell_type": "markdown",
   "metadata": {},
   "source": [
    "Ejecutamos el contenedor localmente\n",
    "```bash\n",
    "docker run -it nombre-de-la-imagen:etiqueta\n",
    "```"
   ]
  },
  {
   "cell_type": "markdown",
   "metadata": {},
   "source": [
    "Iniciamos seción para poder subir el contenedor a DockerHub\n",
    "```bash\n",
    "docker login\n",
    "```"
   ]
  },
  {
   "cell_type": "markdown",
   "metadata": {},
   "source": [
    "Etiquetamos la imagen local\n",
    "```bash\n",
    "docker tag nombre-de-la-imagen:etiqueta nombre-de-usuario/nombre-de-la-imagen:etiqueta\n",
    "```"
   ]
  },
  {
   "cell_type": "markdown",
   "metadata": {},
   "source": [
    "Subimos la imagen a DockerHub\n",
    "```bash\n",
    "docker push nombre-de-usuario/nombre-de-la-imagen:etiqueta\n",
    "```"
   ]
  },
  {
   "cell_type": "markdown",
   "metadata": {},
   "source": [
    "## Instalación del contenedor"
   ]
  },
  {
   "cell_type": "markdown",
   "metadata": {},
   "source": [
    "```bash\n",
    "docker run -it --gpus all -p 9999:8888 -v $PWD:/workspace --name torchmd-net-tesis --shm-size 16G emmanuelzula/tesis:0.1 /bin/bash\n",
    "```"
   ]
  },
  {
   "cell_type": "markdown",
   "metadata": {},
   "source": [
    "Este comando se utiliza para ejecutar un contenedor Docker con ciertas configuraciones.\n",
    "\n",
    "1. **docker run**: Esto es el comando principal de Docker para ejecutar un contenedor.\n",
    "\n",
    "2. **-it**: Estos son argumentos que se utilizan para indicar que se desea una terminal interactiva. Esto permite interactuar con el contenedor a través de la línea de comandos.\n",
    "\n",
    "3. **--gpus all**: Indica que deseas asignar todos los recursos de GPU disponibles en el contenedor. Esto asume que tienes GPU y que has configurado Docker para admitir GPU.\n",
    "\n",
    "4. **-p 9999:8888**: Esto mapea el puerto 8888 del contenedor al puerto 9999 de tu host local. Significa que si el contenedor ejecuta un servicio en el puerto 8888, podrás acceder a él desde tu navegador en `localhost:9999`.\n",
    "\n",
    "5. **-v $PWD:/workspace**: Este argumento establece un volumen (mount) que vincula el directorio actual (`$PWD`) en tu host local con el directorio `/workspace` en el contenedor. Esto permite compartir archivos y datos entre tu sistema local y el contenedor.\n",
    "\n",
    "6. **--name torchmd-net**: Asigna un nombre al contenedor, en este caso, \"torchmd-net\". Puedes usar este nombre para hacer referencia al contenedor en lugar de su identificador largo.\n",
    "\n",
    "7. **--shm-size 16G**: Esto configura el tamaño de la memoria compartida (shared memory) dentro del contenedor en 16 gigabytes. Algunas aplicaciones pueden requerir más memoria compartida.\n",
    "\n",
    "8. **emmanuelzula/servicio:1.3**: Es la imagen de Docker que se utilizará para crear el contenedor. En este caso, se está utilizando la imagen \"emmanuelzula/servicio\" con la etiqueta \"1.3\".\n",
    "\n",
    "9. **/bin/bash**: Es el comando que se ejecutará dentro del contenedor. En este caso, se inicia un shell Bash dentro del contenedor, lo que te permite interactuar con él."
   ]
  }
 ],
 "metadata": {
  "language_info": {
   "name": "python"
  }
 },
 "nbformat": 4,
 "nbformat_minor": 2
}
